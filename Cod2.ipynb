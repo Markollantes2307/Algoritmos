{
  "nbformat": 4,
  "nbformat_minor": 0,
  "metadata": {
    "colab": {
      "name": "Cod2.ipynb",
      "provenance": [],
      "authorship_tag": "ABX9TyMlDj6HoDg4Xeiyea6Gm/dw",
      "include_colab_link": true
    },
    "kernelspec": {
      "name": "python3",
      "display_name": "Python 3"
    },
    "language_info": {
      "name": "python"
    }
  },
  "cells": [
    {
      "cell_type": "markdown",
      "metadata": {
        "id": "view-in-github",
        "colab_type": "text"
      },
      "source": [
        "<a href=\"https://colab.research.google.com/github/Markollantes2307/Algoritmos/blob/main/Cod2.ipynb\" target=\"_parent\"><img src=\"https://colab.research.google.com/assets/colab-badge.svg\" alt=\"Open In Colab\"/></a>"
      ]
    },
    {
      "cell_type": "code",
      "metadata": {
        "colab": {
          "base_uri": "https://localhost:8080/"
        },
        "id": "24N3F47dnTXJ",
        "outputId": "fc6ea3b5-fe1a-4511-b558-19549d4d1078"
      },
      "source": [
        "%%writefile archivos.cpp\n",
        "#include <iostream>\n",
        "#include <fstream>\n",
        "#include <sstream>\n",
        "#include <string>\n",
        "using namespace std;\n",
        "struct Celu{\n",
        "    \n",
        "};\n",
        "int main(){\n",
        "    string s;\n",
        "    //cout<<\"Hello\"<<endl;\n",
        "    //cin>>s;\n",
        "    fstream archivoE(\"archivo1.txt\",ios::out);\n",
        "    archivoE<<\"Hello world\";\n",
        "    archivoE.close();\n",
        "    fstream archivoL(\"archivo1.txt\",ios::in);\n",
        "    getline(archivoL,s);\n",
        "    cout<<s;\n",
        "    archivoL.close();\n",
        "}"
      ],
      "execution_count": 10,
      "outputs": [
        {
          "output_type": "stream",
          "text": [
            "Overwriting archivos.cpp\n"
          ],
          "name": "stdout"
        }
      ]
    },
    {
      "cell_type": "code",
      "metadata": {
        "colab": {
          "base_uri": "https://localhost:8080/"
        },
        "id": "PtByZHYFvVn5",
        "outputId": "a56ff7f7-cb06-4e0a-f913-3c1d39ff3dcb"
      },
      "source": [
        "!g++ archivos.cpp && ./a.out"
      ],
      "execution_count": 11,
      "outputs": [
        {
          "output_type": "stream",
          "text": [
            "Hello world"
          ],
          "name": "stdout"
        }
      ]
    },
    {
      "cell_type": "code",
      "metadata": {
        "colab": {
          "base_uri": "https://localhost:8080/"
        },
        "id": "g-Xyr9JL0zAc",
        "outputId": "9de080b5-ce7f-414f-e606-8b935a2e60a5"
      },
      "source": [
        "%%writefile archivos.upc\n",
        "Alan | Flores | 19\n",
        "Miguel | Rodriguez | 20\n",
        "Rosa | Cobeñas | 35\n",
        "Juan | Cabrera | 50\n",
        "Monica | Rodriguez | 19"
      ],
      "execution_count": 14,
      "outputs": [
        {
          "output_type": "stream",
          "text": [
            "Overwriting archivos.upc\n"
          ],
          "name": "stdout"
        }
      ]
    },
    {
      "cell_type": "code",
      "metadata": {
        "colab": {
          "base_uri": "https://localhost:8080/"
        },
        "id": "pouStjWHz1fG",
        "outputId": "8df64888-f76a-4cbc-8aea-d23514904cd3"
      },
      "source": [
        "%%writefile demo.cpp\n",
        "#include <iostream>\n",
        "#include <fstream>\n",
        "#include <sstream>\n",
        "#include <string>\n",
        "using namespace std;\n",
        "void lectura(){\n",
        "    string cadena;\n",
        "    ifstream arch(\"archivos.upc\");\n",
        "    while(getline(arch,cadena))\n",
        "    cout<<cadena<<endl;\n",
        "}\n",
        "int main(){\n",
        "    lectura();\n",
        "}"
      ],
      "execution_count": 16,
      "outputs": [
        {
          "output_type": "stream",
          "text": [
            "Overwriting demo.cpp\n"
          ],
          "name": "stdout"
        }
      ]
    },
    {
      "cell_type": "code",
      "metadata": {
        "colab": {
          "base_uri": "https://localhost:8080/"
        },
        "id": "cl-Xj1WE03j1",
        "outputId": "d05d6f12-82ee-4151-e788-d7fea13df327"
      },
      "source": [
        "!g++ demo.cpp && ./a.out"
      ],
      "execution_count": 17,
      "outputs": [
        {
          "output_type": "stream",
          "text": [
            "Alan | Flores | 19\n",
            "Miguel | Rodriguez | 20\n",
            "Rosa | Cobeñas | 35\n",
            "Juan | Cabrera | 50\n",
            "Monica | Rodriguez | 19\n"
          ],
          "name": "stdout"
        }
      ]
    },
    {
      "cell_type": "code",
      "metadata": {
        "colab": {
          "base_uri": "https://localhost:8080/"
        },
        "id": "VmWHpdE61DYb",
        "outputId": "98349220-1a09-4b30-e781-b0f62929d771"
      },
      "source": [
        "%%writefile demo1.cpp\n",
        "#include <iostream>\n",
        "#include <fstream>\n",
        "#include <sstream>\n",
        "#include <string>\n",
        "using namespace std;\n",
        "struct Estudiante{\n",
        "    string name;\n",
        "    string lastn;\n",
        "    unsigned short edad;\n",
        "};\n",
        "void lectura(){\n",
        "    string cadena;\n",
        "    string name; string lastn; string aux; unsigned short edad;\n",
        "    ifstream arch(\"archivos.upc\");\n",
        "    while(getline(arch,cadena)){\n",
        "    stringstream archMem(cadena);\n",
        "    getline(archMem,name,'|');\n",
        "    getline(archMem,lastn,'|');\n",
        "    getline(archMem,aux);\n",
        "    edad=stoi(aux);\n",
        "    cout<<lastn<<\" \"<<name<<\" \"<<edad<<endl;}\n",
        "}\n",
        "int main(){\n",
        "    lectura();\n",
        "}"
      ],
      "execution_count": 26,
      "outputs": [
        {
          "output_type": "stream",
          "text": [
            "Overwriting demo1.cpp\n"
          ],
          "name": "stdout"
        }
      ]
    },
    {
      "cell_type": "code",
      "metadata": {
        "colab": {
          "base_uri": "https://localhost:8080/"
        },
        "id": "cLhPJJ7X1vMC",
        "outputId": "990a7f1c-ae4a-4ceb-a741-56dc810a7616"
      },
      "source": [
        "!g++ demo1.cpp && ./a.out"
      ],
      "execution_count": 27,
      "outputs": [
        {
          "output_type": "stream",
          "text": [
            " Flores  Alan  19\n",
            " Rodriguez  Miguel  20\n",
            " Cobeñas  Rosa  35\n",
            " Cabrera  Juan  50\n",
            " Rodriguez  Monica  19\n"
          ],
          "name": "stdout"
        }
      ]
    },
    {
      "cell_type": "code",
      "metadata": {
        "colab": {
          "base_uri": "https://localhost:8080/"
        },
        "id": "nQLnQvmx6hP4",
        "outputId": "b35dace4-4de9-44b6-bd5e-10242fdf9bb1"
      },
      "source": [
        "%%writefile lambdas.cpp\n",
        "#include <iostream>\n",
        "#include <functional>\n",
        "using namespace std;\n",
        "short suma(short a, short b){\n",
        "    return a+b;\n",
        "}\n",
        "void operar(function<short(short,short)> vF){\n",
        "    short a=25, b=5;\n",
        "    cout<<vF(a,b)<<endl;\n",
        "}\n",
        "int main(){\n",
        "    auto suma=[](short a, short b)->short{return a+b;};\n",
        "    auto mult=[](short a, short b)->short{return a*b;};\n",
        "    auto divi=[](short a, short b)->short{return a/b;};\n",
        "    operar(suma);\n",
        "    operar(mult);\n",
        "    operar(divi);\n",
        "}\n"
      ],
      "execution_count": 33,
      "outputs": [
        {
          "output_type": "stream",
          "text": [
            "Overwriting lambdas.cpp\n"
          ],
          "name": "stdout"
        }
      ]
    },
    {
      "cell_type": "code",
      "metadata": {
        "colab": {
          "base_uri": "https://localhost:8080/"
        },
        "id": "j_FO__0B6hwN",
        "outputId": "9db599ba-bd29-454e-dea0-839c02be3656"
      },
      "source": [
        "!g++ lambdas.cpp && ./a.out"
      ],
      "execution_count": 34,
      "outputs": [
        {
          "output_type": "stream",
          "text": [
            "30\n",
            "125\n",
            "5\n"
          ],
          "name": "stdout"
        }
      ]
    },
    {
      "cell_type": "code",
      "metadata": {
        "colab": {
          "base_uri": "https://localhost:8080/"
        },
        "id": "E0fmUGThAqeL",
        "outputId": "e5d17535-9e8f-48a7-9735-878326beeee0"
      },
      "source": [
        "%%writefile lambdas1.cpp\n",
        "#include <iostream>\n",
        "#include <vector>\n",
        "#include <functional>\n",
        "using namespace std;\n",
        "void procesar(function<void(vector<int>)> F){\n",
        "    vector<int> enteros;\n",
        "    for(size_t i=0;i<50;++i){\n",
        "        enteros.push_back(i);\n",
        "    }\n",
        "    F(enteros);\n",
        "}\n",
        "int main(){\n",
        "    auto mostrar=[](vector<int> v)->void{\n",
        "        for(size_t i=0;i<v.size();++i){\n",
        "            cout<<v[i]<<\" \";\n",
        "        }\n",
        "    };\n",
        "    auto mostrarPares= [](vector<int> v)->void{\n",
        "        for(size_t i=0;i<v.size();++i)\n",
        "          if(v[i]%2==0)\n",
        "            cout<<v[i]<<\" \";\n",
        "    };\n",
        "  procesar(mostrar);\n",
        "  cout<<endl;\n",
        "  procesar(mostrarPares);\n",
        "}"
      ],
      "execution_count": 42,
      "outputs": [
        {
          "output_type": "stream",
          "text": [
            "Overwriting lambdas1.cpp\n"
          ],
          "name": "stdout"
        }
      ]
    },
    {
      "cell_type": "code",
      "metadata": {
        "colab": {
          "base_uri": "https://localhost:8080/"
        },
        "id": "dLUYoAARAqQ3",
        "outputId": "a3e80da5-bdcf-4962-8688-45ab0bd8d257"
      },
      "source": [
        "!g++ lambdas1.cpp && ./a.out"
      ],
      "execution_count": 43,
      "outputs": [
        {
          "output_type": "stream",
          "text": [
            "0 1 2 3 4 5 6 7 8 9 10 11 12 13 14 15 16 17 18 19 20 21 22 23 24 25 26 27 28 29 30 31 32 33 34 35 36 37 38 39 40 41 42 43 44 45 46 47 48 49 \n",
            "0 2 4 6 8 10 12 14 16 18 20 22 24 26 28 30 32 34 36 38 40 42 44 46 48 "
          ],
          "name": "stdout"
        }
      ]
    }
  ]
}