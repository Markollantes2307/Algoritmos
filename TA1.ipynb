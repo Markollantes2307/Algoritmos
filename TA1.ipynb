{
  "nbformat": 4,
  "nbformat_minor": 0,
  "metadata": {
    "colab": {
      "name": "TA1.ipynb",
      "provenance": [],
      "collapsed_sections": [],
      "include_colab_link": true
    },
    "kernelspec": {
      "name": "python3",
      "display_name": "Python 3"
    },
    "language_info": {
      "name": "python"
    }
  },
  "cells": [
    {
      "cell_type": "markdown",
      "metadata": {
        "id": "view-in-github",
        "colab_type": "text"
      },
      "source": [
        "<a href=\"https://colab.research.google.com/github/Markollantes2307/Algoritmos/blob/main/TA1.ipynb\" target=\"_parent\"><img src=\"https://colab.research.google.com/assets/colab-badge.svg\" alt=\"Open In Colab\"/></a>"
      ]
    },
    {
      "cell_type": "markdown",
      "metadata": {
        "id": "XKYhTC9VhDp8"
      },
      "source": [
        "##Genially \n",
        ">1. ¿CUÁLES SON LAS DIFERENCIAS ENTRE STRUCT Y CLASS?\n",
        "\n",
        ">Rpta: La principal diferencia es que los miembros de una clase son privados, protegidas o publicas, estan son eleccion del programador. En cambio, los Struct sus miembros son publicos por defecto. Más detalles en el ejemplo."
      ]
    },
    {
      "cell_type": "code",
      "metadata": {
        "id": "6zzJZ9sqLaUd",
        "colab": {
          "base_uri": "https://localhost:8080/"
        },
        "outputId": "fe9f8c6a-806a-46de-f555-dd743a974d1e"
      },
      "source": [
        "%%writefile pregunta1.cpp\n",
        "#include<iostream>\n",
        "using namespace std;\n",
        "//1) diferencia entre class y struct\n",
        "struct Fecha{//en un struct se crea una variable nueva en base a tipos datos existentes \n",
        "  int dia;\n",
        "  int mes;\n",
        "  int anio;\n",
        "  Fecha(int d,int m,int a):dia(d),mes(m),anio(a){}  \n",
        "};\n",
        "class Fecha{//en una clase se puede crear tambien funciones q complementen a los datos\n",
        "private:\n",
        "  int dia;\n",
        "  int mes;\n",
        "  int anio;\n",
        "public:\n",
        "  Fecha(int d, int m, int a){\n",
        "      dia=d; mes=m; anio=a;\n",
        "  }\n",
        "  ~Fecha(){} \n",
        "  void imprimirFecha(){\n",
        "      cout<<dia<<\"/\"<<mes<<\"/\"<<anio<<endl;\n",
        "  }\n",
        "};\n",
        "int main(){\n",
        "    \n",
        "}"
      ],
      "execution_count": null,
      "outputs": [
        {
          "output_type": "stream",
          "name": "stdout",
          "text": [
            "Writing genially.cpp\n"
          ]
        }
      ]
    },
    {
      "cell_type": "markdown",
      "metadata": {
        "id": "wt_Ao6kchjHR"
      },
      "source": [
        ">2. ¿QUÉ SON LA HERENCIA TIPO PUBLICO Y PROTEGIDO?\n",
        "\n",
        ">**La herencia pública:** convierte a los *public* miembros de la clase base *public* en la clase derivada y los *protected* miembros de la clase base permanecen *protected* en la clase derivada.\n",
        "\n",
        ">**La herencia privada:** hace que *public* y *protected* miembros de la clase base *private* en la clase derivada.\n",
        "\n",
        ">Ejemplo:"
      ]
    },
    {
      "cell_type": "code",
      "metadata": {
        "colab": {
          "base_uri": "https://localhost:8080/"
        },
        "id": "3XqAw8yKiF_0",
        "outputId": "167d88a3-0183-4c05-9ef0-19f558ac1521"
      },
      "source": [
        "%%writefile pregunta2.cpp\n",
        "#include <iostream>\n",
        "using namespace std;\n",
        "\n",
        "class Base {\n",
        "   private:\n",
        "    int pvt = 1;\n",
        "\n",
        "   protected:\n",
        "    int prot = 2;\n",
        "\n",
        "   public:\n",
        "    int pub = 3;\n",
        "\n",
        "    // function to access private member\n",
        "    int getPVT() {\n",
        "        return pvt;\n",
        "    }\n",
        "};\n",
        "\n",
        "class PublicDerived : public Base {\n",
        "   public:\n",
        "    // function to access protected member from Base\n",
        "    int getProt() {\n",
        "        return prot;\n",
        "    }\n",
        "};\n",
        "\n",
        "int main() {\n",
        "    PublicDerived object1;\n",
        "    cout << \"Private = \" << object1.getPVT() << endl;\n",
        "    cout << \"Protected = \" << object1.getProt() << endl;\n",
        "    cout << \"Public = \" << object1.pub << endl;\n",
        "    return 0;\n",
        "}"
      ],
      "execution_count": null,
      "outputs": [
        {
          "metadata": {
            "tags": null
          },
          "name": "stdout",
          "output_type": "stream",
          "text": [
            "Writing pregunta2.cpp\n"
          ]
        }
      ]
    },
    {
      "cell_type": "code",
      "metadata": {
        "colab": {
          "base_uri": "https://localhost:8080/"
        },
        "id": "cGcm3YOYk6v6",
        "outputId": "1f819c67-4533-4d8c-a6c4-91cb36600e86"
      },
      "source": [
        "!g++ pregunta2.cpp && ./a.out"
      ],
      "execution_count": null,
      "outputs": [
        {
          "output_type": "stream",
          "name": "stdout",
          "text": [
            "Private = 1\n",
            "Protected = 2\n",
            "Public = 3\n"
          ]
        }
      ]
    },
    {
      "cell_type": "markdown",
      "metadata": {
        "id": "8hzjTvs-hy_7"
      },
      "source": [
        "> 3. ¿PODEMOS UTILIZAR UNA FUNCIÓN SOBRESCRITA DE LA CLASE BASE EN LA CLASE DERIVADA?\n",
        "\n",
        ">Rpta: Sí, se pueden emplear funciones sobreescritas, pero es más eficiente no emplearlas o se satura la memoria  \n"
      ]
    },
    {
      "cell_type": "code",
      "metadata": {
        "colab": {
          "base_uri": "https://localhost:8080/"
        },
        "id": "R3Fx9GcVqAF2",
        "outputId": "793b62c8-9b38-4605-8597-e0848f3b64bf"
      },
      "source": [
        "%%writefile pregunta3.cpp\n",
        "#include <iostream>\n",
        "using namespace std;\n",
        "class Base {\n",
        "   public:\n",
        "    int pvt = 1;\n",
        "    int prot = 2;\n",
        "    int pub = 3;\n",
        "    int getPVT() {\n",
        "        return pvt;\n",
        "    }\n",
        "    int sumadeP(){\n",
        "        return pvt+prot+pub;\n",
        "    }\n",
        "};\n",
        "class PublicDerived : public Base {\n",
        "   public:\n",
        "    int sumadeP(){\n",
        "        return pvt+prot+pub;\n",
        "    }\n",
        "    int getProt() {\n",
        "        return prot;\n",
        "    }\n",
        "};\n",
        "int main(){\n",
        "    PublicDerived PD2;\n",
        "    cout<<PD2.sumadeP()<<endl;\n",
        "}"
      ],
      "execution_count": null,
      "outputs": [
        {
          "output_type": "stream",
          "name": "stdout",
          "text": [
            "Overwriting pregunta3.cpp\n"
          ]
        }
      ]
    },
    {
      "cell_type": "code",
      "metadata": {
        "colab": {
          "base_uri": "https://localhost:8080/"
        },
        "id": "lrkQhKlV356N",
        "outputId": "596e7cde-efa1-4334-bc53-405636eda06e"
      },
      "source": [
        "!g++ pregunta3.cpp && ./a.out"
      ],
      "execution_count": null,
      "outputs": [
        {
          "output_type": "stream",
          "name": "stdout",
          "text": [
            "6\n"
          ]
        }
      ]
    },
    {
      "cell_type": "markdown",
      "metadata": {
        "id": "L56CrevKs-mS"
      },
      "source": [
        "> 4. ¿CÓMO SE CREA UNA CLASE ABSTRACTA?\n",
        "\n",
        ">Rpta: En herencia, una clase abstracta posee métodos sin implementar llamados métodos virtuales puros, declarados por \"virtual void\", los cuales pueden ser llenados en las clases derivadas."
      ]
    },
    {
      "cell_type": "code",
      "metadata": {
        "colab": {
          "base_uri": "https://localhost:8080/"
        },
        "id": "rc4T5mzps-8V",
        "outputId": "cf70f7bb-0547-43c6-aefa-2605145503e8"
      },
      "source": [
        "%%writefile pregunta4.cpp\n",
        "#include<iostream>\n",
        "using namespace std;\n",
        "class Interfaz1//clase abstracta\n",
        "{\n",
        "\tpublic:\n",
        "    virtual void metodoVirtualPuro() const = 0;//metodo virtual puro\n",
        "};\n",
        "class Concreta: public Interfaz1\n",
        "{\n",
        "\tpublic:\n",
        "    void metodoVirtualPuro() const{cout<<\"Metodo Virtual Puro Redefinido\"<<endl;}\n",
        "};\n",
        "\n",
        "int main()\n",
        "{\n",
        "\tConcreta miObj;\n",
        "\tmiObj.metodoVirtualPuro();\n",
        "\treturn 0;\n",
        "}"
      ],
      "execution_count": null,
      "outputs": [
        {
          "output_type": "stream",
          "name": "stdout",
          "text": [
            "Overwriting pregunta4.cpp\n"
          ]
        }
      ]
    },
    {
      "cell_type": "code",
      "metadata": {
        "colab": {
          "base_uri": "https://localhost:8080/"
        },
        "id": "5bb6Dxan8KE8",
        "outputId": "f76fbbe7-f7f4-4c2a-f203-4f218bc11453"
      },
      "source": [
        "!g++ pregunta4.cpp && ./a.out"
      ],
      "execution_count": null,
      "outputs": [
        {
          "output_type": "stream",
          "name": "stdout",
          "text": [
            "Metodo Virtual Puro Redefinido\n"
          ]
        }
      ]
    },
    {
      "cell_type": "markdown",
      "metadata": {
        "id": "3WwnMxkGszgh"
      },
      "source": [
        "> 5. ¿QUÉ PASA SI CREO UN OBJETO DE UNA CLASE ABSTRACTA, MUESTRA UN ERROR O COMPILA CON ÉXITO?\n",
        "\n",
        ">Rpta: Se compila con exito, al ser una clase base para una herencia puede albergar otros objetos aparte de los metodos virtuales e incluso darle acceso a sus clases derivadas"
      ]
    },
    {
      "cell_type": "code",
      "metadata": {
        "colab": {
          "base_uri": "https://localhost:8080/"
        },
        "id": "R96-_sX-sz-Q",
        "outputId": "71b68b21-2392-4a8a-88e1-4dcd60302418"
      },
      "source": [
        "%%writefile pregunta5.cpp\n",
        "#include<iostream>\n",
        "using namespace std;\n",
        "class Interfaz1//clase abstracta\n",
        "{\n",
        "\tpublic:\n",
        "    int objeto1 = 800;\n",
        "    virtual void metodoVirtualPuro() const = 0;//metodo virtual puro\n",
        "};\n",
        "class Concreta: public Interfaz1\n",
        "{\n",
        "\tpublic:\n",
        "    void metodoVirtualPuro() const{cout<<\"Metodo Virtual Puro Redefinido \"<<objeto1<<endl;}\n",
        "};\n",
        "\n",
        "int main()\n",
        "{\n",
        "\tConcreta miObj;\n",
        "\tmiObj.metodoVirtualPuro();\n",
        "\treturn 0;\n",
        "}"
      ],
      "execution_count": null,
      "outputs": [
        {
          "output_type": "stream",
          "name": "stdout",
          "text": [
            "Overwriting pregunta5.cpp\n"
          ]
        }
      ]
    },
    {
      "cell_type": "code",
      "metadata": {
        "colab": {
          "base_uri": "https://localhost:8080/"
        },
        "id": "romOmoRc-_cW",
        "outputId": "4943dea1-66ff-4688-cc09-64ef86413223"
      },
      "source": [
        "!g++ pregunta5.cpp && ./a.out"
      ],
      "execution_count": null,
      "outputs": [
        {
          "output_type": "stream",
          "name": "stdout",
          "text": [
            "Metodo Virtual Puro Redefinido 800\n"
          ]
        }
      ]
    },
    {
      "cell_type": "markdown",
      "metadata": {
        "id": "yvWYxg_gqYkN"
      },
      "source": [
        "> 6. ¿POR QUÉ CREAMOS EL DESTRUCTOR Y QUÉ HAY DENTRO DEL DESTRUCTOR?\n",
        "\n",
        "Rpta: El destructor es creado para eliminar una función cuando se termina de ejecutar o sale fuera del alcance."
      ]
    },
    {
      "cell_type": "code",
      "metadata": {
        "id": "sknUakFxq5MY"
      },
      "source": [
        "%%writefile pregunta6.cpp\n",
        "class Fecha{\n",
        "private:\n",
        "  int dia;\n",
        "  int mes;\n",
        "  int anio;\n",
        "public:\n",
        "  Fecha(int d, int m, int a){\n",
        "      dia=d; mes=m; anio=a;\n",
        "  }\n",
        "  ~Fecha(){} //por lo general se crea automáticamente y no posee parametros internos \n",
        "  void imprimirFecha(){\n",
        "      cout<<dia<<\"/\"<<mes<<\"/\"<<anio<<endl;\n",
        "  }\n",
        "};"
      ],
      "execution_count": null,
      "outputs": []
    },
    {
      "cell_type": "markdown",
      "metadata": {
        "id": "nhePjEswtW2T"
      },
      "source": [
        ">7. ¿CÓMO SE ASIGNA LA MEMORIA EN C++?\n",
        "\n",
        ">Rpta: Para asignar una variable a la memoria, se usa un asterisco al momento de declarar la variable e igualarla a un \"new\" y el tipo de variable que es como se muestra en el ejemplo "
      ]
    },
    {
      "cell_type": "code",
      "metadata": {
        "colab": {
          "base_uri": "https://localhost:8080/"
        },
        "id": "uLsWJcY0sqEC",
        "outputId": "84f80b2b-84fc-4ddf-ad4f-9320e207a08a"
      },
      "source": [
        "%%writefile pregunta7.cpp\n",
        "#include <iostream>\n",
        "using namespace std;\n",
        "int main(){\n",
        "    int var1 = 150;\n",
        "    int *var2=new int;\n",
        "    *var2=360;\n",
        "    cout<<var1<<endl;\n",
        "    cout<<var2<<endl;\n",
        "    cout<<*var2<<endl;\n",
        "}"
      ],
      "execution_count": null,
      "outputs": [
        {
          "output_type": "stream",
          "name": "stdout",
          "text": [
            "Overwriting pregunta7.cpp\n"
          ]
        }
      ]
    },
    {
      "cell_type": "code",
      "metadata": {
        "id": "0D4VDWixtqEV",
        "colab": {
          "base_uri": "https://localhost:8080/"
        },
        "outputId": "a9b94984-6bfa-4447-bef7-f049a48fed78"
      },
      "source": [
        "!g++ pregunta7.cpp && ./a.out"
      ],
      "execution_count": null,
      "outputs": [
        {
          "output_type": "stream",
          "name": "stdout",
          "text": [
            "150\n",
            "0x561305dea008\n",
            "360\n"
          ]
        }
      ]
    },
    {
      "cell_type": "markdown",
      "metadata": {
        "id": "35htggJ2GZbi"
      },
      "source": [
        "8. ¿HA UTILIZADO LA SOBRECARGA DE OPERADORES EN SU PROYECTO Y CÓMO?\n",
        ">En realidad, no use sobrecarga de operadores ya que no lo vi necesario pero el siguiente ejemplo es para ver como se utiliza.\n"
      ]
    },
    {
      "cell_type": "code",
      "metadata": {
        "colab": {
          "base_uri": "https://localhost:8080/"
        },
        "id": "gjZRaZRX0IwV",
        "outputId": "e97bdc1d-1109-4e40-def0-8f6d05c9d96a"
      },
      "source": [
        "%%writefile pregunta8.cpp\n",
        "#include <iostream>\n",
        "using namespace std;\n",
        "\n",
        "class Pareja {\n",
        "public:\n",
        "    double a, b;\n",
        "\n",
        "    // constructor parametrizado\n",
        "    Pareja(const double a,const double b)\n",
        "    {\n",
        "        this->a = a;\n",
        "        this->b = b;\n",
        "    }\n",
        "};\n",
        "\n",
        "// Sobrecarga del operador +\n",
        "Pareja operator +(const Pareja &p1,const Pareja &p2)\n",
        "{\n",
        "    Pareja res( p1.a + p2.a, p1.b + p2.b );\n",
        "    return res;\n",
        "}\n",
        "\n",
        "int main()\n",
        "{\n",
        "    Pareja A(50, 75 );\n",
        "    Pareja B(150, 175 );\n",
        "    Pareja C = A + B;\n",
        "\n",
        "    cout << \"A = \" << A.a << ',' << A.b << \"\\n\";\n",
        "    cout << \"B = \" << B.a << ',' << B.b << \"\\n\";\n",
        "    cout << \"C = \" << C.a << ',' << C.b << \"\\n\";\n",
        "\n",
        "    return 0;\n",
        "}"
      ],
      "execution_count": null,
      "outputs": [
        {
          "output_type": "stream",
          "name": "stdout",
          "text": [
            "Writing pregunta8.cpp\n"
          ]
        }
      ]
    },
    {
      "cell_type": "code",
      "metadata": {
        "colab": {
          "base_uri": "https://localhost:8080/"
        },
        "id": "YiRaH4bk0SFW",
        "outputId": "03bda12d-03ce-44eb-8a0c-6746772c583d"
      },
      "source": [
        "!g++ pregunta8.cpp && ./a.out"
      ],
      "execution_count": null,
      "outputs": [
        {
          "output_type": "stream",
          "name": "stdout",
          "text": [
            "A = 50,75\n",
            "B = 150,175\n",
            "C = 200,250\n"
          ]
        }
      ]
    },
    {
      "cell_type": "markdown",
      "metadata": {
        "id": "Q65DOcgRGd_T"
      },
      "source": [
        "9. ¿DIFERENCIA ENTRE ENCAPSULAMIENTO Y ABSTRACCIÓN?\n",
        "\n",
        "**La encapsulación** consiste en empaquetar los datos y las funciones que operan sobre esos datos en un único componente y restringir el acceso a algunos de los componentes del objeto.\n",
        "\n",
        "La encapsulación significa que la representación interna de un objeto está generalmente oculta a la vista fuera de la definición del objeto.\n",
        "\n",
        "**La abstracciónes** un mecanismo que representa las características esenciales sin incluir los detalles de implementación.\n",
        "\n",
        "Encapsulación:-- Ocultación de la información.\n",
        "\n",
        "Abstracción:-- Ocultación de la implementación.\n",
        "\n",
        "Ejemplo:"
      ]
    },
    {
      "cell_type": "code",
      "metadata": {
        "id": "pAgvUC19tp8B",
        "colab": {
          "base_uri": "https://localhost:8080/"
        },
        "outputId": "bfbd8ecc-be85-4c99-c6f0-a3639c36aba2"
      },
      "source": [
        "%%writefile encapsulamiento.cpp\n",
        "#include <iostream>\n",
        "using namespace std;\n",
        "\n",
        "class EncapsulationExample {\n",
        "private:\n",
        "\t// we declare a as private to hide it from outside\n",
        "\tint a;\n",
        "\n",
        "public:\n",
        "\t// set() function to set the value of a\n",
        "\tvoid set(int x)\n",
        "\t{\n",
        "\t\ta = x;\n",
        "\t}\n",
        "\n",
        "\t// get() function to return the value of a\n",
        "\tint get()\n",
        "\t{\n",
        "\t\treturn a;\n",
        "\t}\n",
        "};\n",
        "\n",
        "// main function\n",
        "int main()\n",
        "{\n",
        "\tEncapsulationExample e1;\n",
        "\n",
        "\te1.set(10);\n",
        "\n",
        "\tcout<<e1.get();\n",
        "\treturn 0;\n",
        "}"
      ],
      "execution_count": null,
      "outputs": [
        {
          "output_type": "stream",
          "name": "stdout",
          "text": [
            "Writing encapsulamiento.cpp\n"
          ]
        }
      ]
    },
    {
      "cell_type": "code",
      "metadata": {
        "colab": {
          "base_uri": "https://localhost:8080/"
        },
        "id": "1zP8iY5R0fvn",
        "outputId": "a62332e1-e7f5-4b27-ee68-4bb1ed1c6b3a"
      },
      "source": [
        "!g++ encapsulamiento.cpp && ./a.out"
      ],
      "execution_count": null,
      "outputs": [
        {
          "output_type": "stream",
          "name": "stdout",
          "text": [
            "10"
          ]
        }
      ]
    },
    {
      "cell_type": "code",
      "metadata": {
        "colab": {
          "base_uri": "https://localhost:8080/"
        },
        "id": "9LaU20gC0sIw",
        "outputId": "b53ff729-9d9d-448b-dc2f-7f19bd08069d"
      },
      "source": [
        "%%writefile abstraccion.cpp\n",
        "#include <iostream>\n",
        "using namespace std;\n",
        "\n",
        "class Suma {\n",
        "private:\n",
        "\t// private variables\n",
        "\tint a, b, c;\n",
        "public:\n",
        "\tvoid sum(int x, int y)\n",
        "\t{\n",
        "\t\ta = x;\n",
        "\t\tb = y;\n",
        "\t\tc = a + b;\n",
        "\t\tcout<<\"Suma de dos numeros es: \"<<c<<endl;\n",
        "\t}\n",
        "};\n",
        "int main()\n",
        "{\n",
        "\tSuma s;\n",
        "\ts.sum(5, 4);\n",
        "\treturn 0;\n",
        "}\n"
      ],
      "execution_count": null,
      "outputs": [
        {
          "output_type": "stream",
          "name": "stdout",
          "text": [
            "Writing abstraccion.cpp\n"
          ]
        }
      ]
    },
    {
      "cell_type": "code",
      "metadata": {
        "colab": {
          "base_uri": "https://localhost:8080/"
        },
        "id": "eE649EAz0yin",
        "outputId": "c437d321-94b5-4ab1-8b2c-84126d00ca54"
      },
      "source": [
        "!g++ abstraccion.cpp && ./a.out"
      ],
      "execution_count": null,
      "outputs": [
        {
          "output_type": "stream",
          "name": "stdout",
          "text": [
            "Suma de dos numeros es: 9\n"
          ]
        }
      ]
    },
    {
      "cell_type": "markdown",
      "metadata": {
        "id": "WHI7Nv6i06M8"
      },
      "source": [
        "10. CUANDO LA MISMA FUNCIÓN EXISTE TANTO EN LA CLASE BASE COMO EN LA CLASE DERIVADA, ¿ QUÉ FUNCIÓN ES EJECUTADA?\n",
        "Cuando el objeto de la clase derivada invoca el método y ese método está declarado en la clase derivada, entonces el método de la clase derivada será invocado\n",
        "\n",
        ">Pero si la clase derivada no declara el método, se añadirá por defecto desde la clase base"
      ]
    },
    {
      "cell_type": "code",
      "metadata": {
        "colab": {
          "base_uri": "https://localhost:8080/"
        },
        "id": "SDG7ZZ0E09tD",
        "outputId": "d2bde8af-efaf-4a1c-f8d6-0b121d006f76"
      },
      "source": [
        "%%writefile pregunta10.cpp\n",
        "\n",
        "#include <iostream>\n",
        "\n",
        "class Base\n",
        "{\n",
        "private: // our member is now private\n",
        "    int m_id;\n",
        "\n",
        "public:\n",
        "    Base(int id=0): m_id(id){}\n",
        "    int getId() const { return m_id; }\n",
        "    int suma(int a, int b){return a+b;}\n",
        "};\n",
        "\n",
        "class Derived: public Base\n",
        "{\n",
        "private: // our member is now private\n",
        "    double m_cost;\n",
        "\n",
        "public:\n",
        "    Derived(double cost=0.0, int id=0)\n",
        "        : Base(id) // Call Base(int) constructor with value id!\n",
        "        , m_cost(cost)\n",
        "    {\n",
        "    }\n",
        "\n",
        "    double getCost() const { return m_cost; }\n",
        "    int suma(int a, int b){return a+b;}\n",
        "};\n",
        "\n",
        "int main()\n",
        "{\n",
        "    Base base{5};\n",
        "    //std::cout<<\"suma: \"<<base.suma(8,3)<<'\\n';\n",
        "    Derived derived(1.3, 5); // use Derived(double, int) constructor\n",
        "    std::cout << \"Id: \" << derived.getId() << '\\n';\n",
        "    std::cout << \"Cost: \" << derived.getCost() << '\\n';\n",
        "    std::cout << \"Suma: \"<<derived.suma(4,5)<<'\\n';\n",
        "\n",
        "    return 0;\n",
        "}\n"
      ],
      "execution_count": null,
      "outputs": [
        {
          "output_type": "stream",
          "name": "stdout",
          "text": [
            "Writing pregunta10.cpp\n"
          ]
        }
      ]
    },
    {
      "cell_type": "code",
      "metadata": {
        "colab": {
          "base_uri": "https://localhost:8080/"
        },
        "id": "heeKvsZZ1F4e",
        "outputId": "becf01ea-bac5-494d-f465-4906f232f1a2"
      },
      "source": [
        "!g++ pregunta10.cpp && ./a.out"
      ],
      "execution_count": null,
      "outputs": [
        {
          "output_type": "stream",
          "name": "stdout",
          "text": [
            "Id: 5\n",
            "Cost: 1.3\n",
            "Suma: 9\n"
          ]
        }
      ]
    },
    {
      "cell_type": "markdown",
      "metadata": {
        "id": "4qhEX_qv1His"
      },
      "source": [
        "11. ¿CÓMO PODEMOS UTILIZAR EL CONSTRUCTOR DE LA CLASE BASE CREANDO UN OBJETO DE LA CLASE DERIVADA?\n",
        "\n",
        "Esto es lo que realmente sucede cuando se instancian los derivados:\n",
        "\n",
        "1. La memoria para el derivado es reservada (suficiente para las porciones Base y Derivada)\n",
        "2. Se llama al constructor derivado apropiado\n",
        "3. El objeto Base se construye primero usando el constructor Base apropiado. Si no se especifica ningún constructor base, se utilizará el constructor por defecto.\n",
        "4. La lista de inicialización inicializa las variables\n",
        "5. El cuerpo del constructor se ejecuta\n",
        "6. El control se devuelve a la persona que llama\n",
        "\n",
        "La única diferencia real entre este caso y el caso no heredado es que antes de que el constructor Derivado pueda hacer algo sustancial, el constructor Base es llamado primero. El constructor Base establece la porción Base del objeto, el control es devuelto al constructor Derivado, y se le permite al constructor Derivado terminar su trabajo."
      ]
    },
    {
      "cell_type": "code",
      "metadata": {
        "colab": {
          "base_uri": "https://localhost:8080/"
        },
        "id": "RlZkPoBL1QvW",
        "outputId": "4d2da807-0661-43b2-b9d1-9b095f4bb84f"
      },
      "source": [
        "%%writefile pregunta11.cpp \n",
        "class Base\n",
        "{\n",
        "public:\n",
        "    int id {};\n",
        "\n",
        "    Base(int id=0):id(id){}\n",
        "    int getId() const { return id; }\n",
        "};\n",
        "\n",
        "class Derived: public Base\n",
        "{\n",
        "public:\n",
        "    double cost;\n",
        "\n",
        "    Derived(double cost=0.0):cost(cost){}\n",
        "    double getCost() const { return cost; }\n",
        "};\n",
        "\n",
        "int main()\n",
        "{\n",
        "    //Base base(5); // uso base (int ) constructor\n",
        "    Derived derived(1.3); // uso Derivado (double) constructor\n",
        "    return 0;\n",
        "}"
      ],
      "execution_count": null,
      "outputs": [
        {
          "output_type": "stream",
          "name": "stdout",
          "text": [
            "Writing pregunta11.cpp\n"
          ]
        }
      ]
    },
    {
      "cell_type": "code",
      "metadata": {
        "id": "sLGdwG4Q1W-T"
      },
      "source": [
        "!g++ pregunta11.cpp && ./a.out"
      ],
      "execution_count": null,
      "outputs": []
    },
    {
      "cell_type": "markdown",
      "metadata": {
        "id": "9LOksG-r1fkz"
      },
      "source": [
        "12. ¿QUÉ ES LA HERENCIA Y CÓMO LO UTILIZÓ EN SU PROYECTO?\n",
        "\n",
        "La herencia es uno de los pilares de la POO, ya que permite reutilizar variables y metodos de la clase padre. Si utilice herencia en el proyecto final de programacion 2."
      ]
    },
    {
      "cell_type": "code",
      "metadata": {
        "colab": {
          "base_uri": "https://localhost:8080/"
        },
        "id": "yY2p6Oku1g1R",
        "outputId": "74c82c36-6a0f-4b03-85cd-cf8c691517d9"
      },
      "source": [
        "%%writefile pregunta12.cpp \n",
        "#include <iostream>\n",
        "#include <string>\n",
        "\n",
        "class Person\n",
        "{\n",
        "public:\n",
        "    std::string m_name{};\n",
        "    int m_age;\n",
        "\n",
        "    const std::string& getName() const { return m_name; }\n",
        "    int getAge() const { return m_age; }\n",
        "\n",
        "    Person(const std::string& name = \"\", int age = 0)\n",
        "        : m_name(name), m_age(age)\n",
        "    {\n",
        "    }\n",
        "};\n",
        "\n",
        "//Empleado hereda publicamente de persona\n",
        "class Employee: public Person\n",
        "{\n",
        "public:\n",
        "    double m_hourlySalary{};\n",
        "    long m_employeeID{};\n",
        "\n",
        "    Employee(double hourlySalary = 0.0, long employeeID = 0)\n",
        "        : m_hourlySalary(hourlySalary), m_employeeID(employeeID)\n",
        "    {\n",
        "    }\n",
        "\n",
        "    void printNameAndSalary() const\n",
        "    {\n",
        "        std::cout << m_name << \": \" << m_hourlySalary << '\\n';\n",
        "    }\n",
        "};\n",
        "\n",
        "int main()\n",
        "{\n",
        "    Employee frank{20.25, 12345};\n",
        "    frank.m_name = \"Frank\"; // nosotros usamos esto porque m_name es public\n",
        "\n",
        "    frank.printNameAndSalary();\n",
        "\n",
        "    return 0;\n",
        "}"
      ],
      "execution_count": null,
      "outputs": [
        {
          "output_type": "stream",
          "name": "stdout",
          "text": [
            "Writing pregunta12.cpp\n"
          ]
        }
      ]
    },
    {
      "cell_type": "code",
      "metadata": {
        "colab": {
          "base_uri": "https://localhost:8080/"
        },
        "id": "PvUC52aJ1rYD",
        "outputId": "e4ef2ec2-9a25-4264-e61a-532e2956e951"
      },
      "source": [
        "!g++ pregunta12.cpp && ./a.out"
      ],
      "execution_count": null,
      "outputs": [
        {
          "output_type": "stream",
          "name": "stdout",
          "text": [
            "Frank: 20.25\n"
          ]
        }
      ]
    },
    {
      "cell_type": "markdown",
      "metadata": {
        "id": "1S1OmC2r1v3Q"
      },
      "source": [
        "13. ¿QUE ES NAMESPACE STD?\n",
        "\n",
        "\n",
        "Todos los archivos de la biblioteca estándar de C++ declaran todas sus entidades dentro del espacio de nombres std. Por eso hemos incluido generalmente la sentencia using namespace std; en todos los programas que utilizaban cualquier entidad definida en iostream."
      ]
    },
    {
      "cell_type": "code",
      "metadata": {
        "colab": {
          "base_uri": "https://localhost:8080/"
        },
        "id": "yrVWhkEI1zbj",
        "outputId": "fe84adb4-b747-4c6b-f269-9cc6e1abb532"
      },
      "source": [
        "%%writefile pregunta13.cpp\n",
        "// using namespace example\n",
        "#include <iostream>\n",
        "using namespace std;\n",
        "\n",
        "namespace first\n",
        "{\n",
        "  int x = 5;\n",
        "}\n",
        "\n",
        "namespace second\n",
        "{\n",
        "  double x = 3.1416;\n",
        "}\n",
        "\n",
        "int main () {\n",
        "  {\n",
        "    using namespace first;\n",
        "    cout << x << endl;\n",
        "  }\n",
        "  {\n",
        "    using namespace second;\n",
        "    cout << x << endl;\n",
        "  }\n",
        "  \n",
        "  return 0;\n",
        "}"
      ],
      "execution_count": null,
      "outputs": [
        {
          "output_type": "stream",
          "name": "stdout",
          "text": [
            "Writing pregunta13.cpp\n"
          ]
        }
      ]
    },
    {
      "cell_type": "code",
      "metadata": {
        "colab": {
          "base_uri": "https://localhost:8080/"
        },
        "id": "TMt9nSTR14Kr",
        "outputId": "40bec395-5f0c-403e-90ba-5b3a4ec85036"
      },
      "source": [
        "!g++ pregunta13.cpp && ./a.out"
      ],
      "execution_count": null,
      "outputs": [
        {
          "output_type": "stream",
          "name": "stdout",
          "text": [
            "5\n",
            "3.1416\n"
          ]
        }
      ]
    },
    {
      "cell_type": "markdown",
      "metadata": {
        "id": "2KIaSdYh1-r7"
      },
      "source": [
        "14. ¿POR QUÉ CREAMOS UNA CLASE ABSTRACTA?\n",
        "\n",
        "Las clases abstractas actúan como expresiones de conceptos generales de los que pueden derivarse clases más específicas. No se puede crear un objeto de un tipo de clase abstracta. Sin embargo, puedes utilizar punteros y referencias a tipos de clases abstractas.\n"
      ]
    },
    {
      "cell_type": "code",
      "metadata": {
        "colab": {
          "base_uri": "https://localhost:8080/"
        },
        "id": "txxvr-Y32ADf",
        "outputId": "2818ce23-9232-4be1-9d49-0c912bad7af7"
      },
      "source": [
        "%%writefile pregunta14.cpp\n",
        "// Declara una clase base abstracta con un destructor virtual puro.\n",
        "// Es la clase abstracta más simple posible.\n",
        "class base\n",
        "{\n",
        "public:\n",
        "    base() {}\n",
        "    // Definir el destructor virtual fuera de la clase:\n",
        "    virtual ~base() = 0;\n",
        "   // Extensión específica de Microsoft para definirlo inline:\n",
        "//  virtual ~base() = 0 {};\n",
        "};\n",
        "\n",
        "base::~base() {} // necesario si no se usa la extensión de Microsoft\n",
        "\n",
        "class derived : public base\n",
        "{\n",
        "public:\n",
        "    derived() {}\n",
        "    ~derived() {}\n",
        "};\n",
        "\n",
        "int main()\n",
        "{\n",
        "    derived aDerived; // destructor llamado cuando sale del ámbito\n",
        "}"
      ],
      "execution_count": null,
      "outputs": [
        {
          "output_type": "stream",
          "name": "stdout",
          "text": [
            "Writing pregunta14.cpp\n"
          ]
        }
      ]
    },
    {
      "cell_type": "code",
      "metadata": {
        "id": "JC2J78K62Gi_"
      },
      "source": [
        "!g++ pregunta14.cpp && ./a.out"
      ],
      "execution_count": null,
      "outputs": []
    },
    {
      "cell_type": "markdown",
      "metadata": {
        "id": "TpFBw2vkfO61"
      },
      "source": [
        "15. ¿Que es la memoria tipo pila y cómo funciona?\n",
        "\n",
        "La memoria de tipo pila es un espacio de memoria con un origen fijo, que puede ir aumentando según la demanda. Este espacio posee un puntero que apunta al inicio de la pila y su modo de acceso es llamado LIFO, es dedir, el ultimo dato en entrar es el primero en salir. A continuación un ejemplo de implementación de pilas."
      ]
    },
    {
      "cell_type": "code",
      "metadata": {
        "colab": {
          "base_uri": "https://localhost:8080/"
        },
        "id": "xKLuK933GX9O",
        "outputId": "5351d92a-0e50-4180-9d88-4d4a7c424637"
      },
      "source": [
        "%%writefile pregunta15.cpp\n",
        "#include <iostream>\n",
        "#include <string>\n",
        "using namespace std;\n",
        "template <typename T>\n",
        "//Se crea una estructura nodo la cual se usara para marcar el inicio y final de la pila\n",
        "//Esta implementado con templates para poder utilizarla con cualquier tipo de dato\n",
        "struct Node{ \n",
        "    T value;\n",
        "    Node<T>* next;\n",
        "    Node(T v, Node* n=nullptr){value=v;next=n;}    \n",
        "};\n",
        "template <class T>\n",
        "class Pila{\n",
        "    private:\n",
        "      Node<T>* inicio;\n",
        "      Node<T>* fin;\n",
        "      unsigned long size;\n",
        "    public:\n",
        "    Pila(){\n",
        "        inicio=fin=nullptr;\n",
        "        size=0;\n",
        "    }\n",
        "    //La función push sirve para aumentar un espacio más a la pila, incluyendo los casos de 0 a n elementos\n",
        "    void push(T v){\n",
        "        Node<T>* nuevo=new Node<T>(v);\n",
        "        if(size==0){\n",
        "            fin=nuevo;\n",
        "        }\n",
        "        else{\n",
        "            nuevo->next=inicio;            \n",
        "        }\n",
        "        inicio=nuevo;\n",
        "      ++size;        \n",
        "    }\n",
        "    //La función pop sirve para eliminar el ultimo elemento agregado a la pila\n",
        "    void pop()\n",
        "    {\n",
        "        if(size==0)return;\n",
        "        else if(size==1){\n",
        "            delete inicio;\n",
        "            inicio=fin=nullptr;\n",
        "            --size;\n",
        "        }\n",
        "        else{\n",
        "            Node<T>* aux = inicio;\n",
        "            inicio = inicio->next;\n",
        "            delete aux;\n",
        "          --size;    \n",
        "        }\n",
        "    }\n",
        "    T top(){\n",
        "     if(inicio!=nullptr)\n",
        "      return inicio->value;\n",
        "    }    \n",
        "};\n",
        "int main(){\n",
        "    Pila<string> cadenas;\n",
        "    cadenas.push(\"Diego\");\n",
        "    cadenas.push(\"Marco\");\n",
        "    cadenas.push(\"Adrián\");\n",
        "\n",
        "    cout<<cadenas.top()<<endl; //Mostrará el ultimo elemnto añadido\n",
        "    cadenas.pop(); //Eliminará el ultimo elemnto añadido\n",
        "    cout<<cadenas.top(); //Mostrará el ultimo elemnto añadido pero con la actualización anterior   \n",
        "    return 0;\n",
        "}"
      ],
      "execution_count": null,
      "outputs": [
        {
          "output_type": "stream",
          "name": "stdout",
          "text": [
            "Writing pregunta15.cpp\n"
          ]
        }
      ]
    },
    {
      "cell_type": "code",
      "metadata": {
        "id": "XZ89nq-Ztp0E",
        "colab": {
          "base_uri": "https://localhost:8080/"
        },
        "outputId": "0c50388e-89e9-4a52-ec54-31d6cc6924cf"
      },
      "source": [
        "!g++ pregunta15.cpp && ./a.out"
      ],
      "execution_count": null,
      "outputs": [
        {
          "output_type": "stream",
          "name": "stdout",
          "text": [
            "Adrián\n",
            "Marco"
          ]
        }
      ]
    },
    {
      "cell_type": "markdown",
      "metadata": {
        "id": "5k_-mCgykOqc"
      },
      "source": [
        "16. ¿Cómo ha utilizado polimorfismo en su trabajo final de curso?"
      ]
    },
    {
      "cell_type": "code",
      "metadata": {
        "id": "Z7pxiUqBtpSX"
      },
      "source": [
        "//Se creó una clase llamda entidad, la cual era padre de las otras clases de personajes llamadas Jugador y Corrupto. La clase entidad contenia la \n",
        "//siguiente función\n",
        "\n",
        "virtual void Mover(Graphics^ g, vector<vector<int>> arr)\n",
        "\t{\n",
        "\t\tColision(arr);\n",
        "\t\tif (x + dx >= 0 && x + dx + ancho < (ANCHO)*tamanho_bloque) {\n",
        "\t\t\tx += dx;\n",
        "\t\t}\n",
        "\t\tif (y + dy >= 0 && y + dy + alto < (ALTO+1)*tamanho_bloque) {\n",
        "\t\t\ty += dy;\n",
        "\t\t}\n",
        "\t}\n",
        "\n",
        "  //A continuación tanto en las clases Jugador como Corrupto, se utiliza esta función pero sobreescrita con otras indicaciones.\n",
        "  // De esta forma usamos el polimorfismo\n",
        "  //Clase Jugador:\n",
        "  void Mover(Graphics^ g, vector<vector<int>> arr) override\n",
        "\t{\n",
        "\t\tColision(arr);\n",
        "\t\tif (this->modo==Escolta || this->modo==Kamikaze) {//si es escolta lo sigue\n",
        "\t\t\tx += dx;\n",
        "\t\t\ty += dy;\n",
        "\t\t}\n",
        "\t\tif (modo==Aleatorio) {//solo se mueve en la posicion donde se genero\n",
        "\t\t\tthis->accion = CaminarAbajo;\n",
        "\t\t\tColision(arr);\n",
        "\t\t}\n",
        "\t\t\n",
        "\t}\n",
        "  //Clase Corrupto\n",
        "  void Mover(Graphics^ g, vector<vector<int>> arr) override\n",
        "\t{\n",
        "\t\tColision(arr);\n",
        "\t\t\tx += dx;\n",
        "\t\t\ty += dy;\n",
        "\t}"
      ],
      "execution_count": null,
      "outputs": []
    },
    {
      "cell_type": "markdown",
      "metadata": {
        "id": "VwAutweDmKCJ"
      },
      "source": [
        "17. ¿Qué es el retraso en la vinculación?\n",
        "\n",
        "Late binding es la llamada de un método de un objeto en tiempo de ejecución o de forma dinámica. En la cual se utiliza la palabra virtual para indicar este tipo de llamada."
      ]
    },
    {
      "cell_type": "code",
      "metadata": {
        "colab": {
          "base_uri": "https://localhost:8080/"
        },
        "id": "b94bsVzin25p",
        "outputId": "fd75ebfe-dcf8-424c-e32e-4a7098394a30"
      },
      "source": [
        "%%writefile pregunta17.cpp\n",
        "#include <iostream>\n",
        "#include <string>\n",
        "using namespace std;\n",
        "\n",
        "class Objeto\n",
        "{\n",
        "public:\n",
        "   virtual void tipo_obj() {\n",
        "       cout<<\"¿Que objeto es? \"<<endl;\n",
        "       }\n",
        "};\n",
        " class Auto: public Objeto\n",
        "{\n",
        "public:\n",
        "   void tipo_obj() {cout<<\"Es un auto\"<<endl;}\n",
        "};\n",
        "\n",
        "class Monitor: public Objeto\n",
        "{\n",
        "public:\n",
        "   void tipo_obj() {cout<<\"Es un monitor\"<<endl;}\n",
        "};\n",
        "\n",
        "void Mostrarobjeto(Objeto &obj){\n",
        "   obj.tipo_obj();\n",
        "}\n",
        "\n",
        "int main()\n",
        "{\n",
        "  Auto carro;\n",
        "  Monitor monitor;\n",
        "   Mostrarobjeto(carro);\n",
        "   Mostrarobjeto(monitor);\n",
        "   return 0;\n",
        "}\n",
        "\n"
      ],
      "execution_count": null,
      "outputs": [
        {
          "output_type": "stream",
          "name": "stdout",
          "text": [
            "Overwriting pregunta17.cpp\n"
          ]
        }
      ]
    },
    {
      "cell_type": "code",
      "metadata": {
        "colab": {
          "base_uri": "https://localhost:8080/"
        },
        "id": "6gTEZeJtq0O7",
        "outputId": "a0e80d5a-9e66-4e12-d6d0-a819c6c64e5e"
      },
      "source": [
        "!g++ pregunta17.cpp && ./a.out"
      ],
      "execution_count": null,
      "outputs": [
        {
          "output_type": "stream",
          "name": "stdout",
          "text": [
            "Es un auto\n",
            "Es un monitor\n"
          ]
        }
      ]
    },
    {
      "cell_type": "markdown",
      "metadata": {
        "id": "wMHfaA6krlvx"
      },
      "source": [
        "Pregunta 18\n",
        "\n",
        "¿Qué estructuras de datos ha utilizado en su trabajo final de curso?\n",
        "\n",
        "Se han utilizado estructuras como vectores, structs y enums."
      ]
    },
    {
      "cell_type": "code",
      "metadata": {
        "id": "M6h5Mwomq38z"
      },
      "source": [
        "%%writefile pregunta18.cpp\n",
        "enum TipoEnemigo\n",
        "{\n",
        "\tcorrupto,\n",
        "\tassasins,\n",
        "};\n",
        "\n",
        "//\n",
        "struct Ubicacion\n",
        "{\n",
        "    int F, C;\n",
        "    Ubicacion()\n",
        "    {\n",
        "        F = C = 0;\n",
        "    };\n",
        "    Ubicacion(int r, int c)\n",
        "    {\n",
        "        F = r;\n",
        "        C = c;\n",
        "    };\n",
        "};"
      ],
      "execution_count": null,
      "outputs": []
    },
    {
      "cell_type": "markdown",
      "metadata": {
        "id": "nRcQXAZjT81K"
      },
      "source": [
        "Pregunta 19\n",
        "\n",
        "¿Por qué cerrar el archivo? ¿Es necesario cerrarlo o se cerrará automaticamente al salir del programa?\n",
        "\n",
        "Es necesario cerrar los archivos luego de utilizarlos, ya que estos se mantienen cargados en la memoria si no se cierran de manera adecuada"
      ]
    },
    {
      "cell_type": "markdown",
      "metadata": {
        "id": "4siXA_I4UcZ6"
      },
      "source": [
        "Pregunta 20\n",
        "\n",
        "¿Qué es Object slicing?\n",
        "\n",
        "Es cuando se asigna un objeto de una clase derivada a una instancia de una clase base."
      ]
    },
    {
      "cell_type": "code",
      "metadata": {
        "id": "MYmuegX9t0I5"
      },
      "source": [
        "%%writefile pregunta20.cpp\n",
        "class Base { \n",
        "    int x, y; \n",
        "    };\n",
        "  \n",
        "class Derivada : public Base { \n",
        "    int z, w;\n",
        "    };\n",
        "  \n",
        "int main() \n",
        "{\n",
        "    Derivada d;\n",
        "    Base b = d; \n",
        "}"
      ],
      "execution_count": null,
      "outputs": []
    },
    {
      "cell_type": "markdown",
      "metadata": {
        "id": "-kJvHXxEUkf5"
      },
      "source": [
        "Pregunta 21\n",
        "\n",
        "¿Qué objetos STL ha utilizado en su proyecto final y por qué?\n",
        "\n",
        "Se utilizó la librería vector para facilitar y estandarizar las funciones realizadas en nuestros arreglos de vectores"
      ]
    },
    {
      "cell_type": "markdown",
      "metadata": {
        "id": "bK0Vn8RjUvzi"
      },
      "source": [
        "Pregunta 22\n",
        "\n",
        "¿Porqué escribimos el constructor?\n",
        "\n",
        "El constructor de una clase se implementa para inicializar los atributos contenidos en esta, de esta forma evitamos errores en la compilación."
      ]
    },
    {
      "cell_type": "code",
      "metadata": {
        "id": "vS0iTJlpKK_O"
      },
      "source": [
        "%%writefile pregunta22.cpp\n",
        "#include <iostream>\n",
        "using namespace std;\n",
        "\n",
        "class Persona{\n",
        "    public: \n",
        "    double altura;\n",
        "    double peso;\n",
        "    short edad;\n",
        "    private:\n",
        "    Persona(){\n",
        "        altura=0;\n",
        "        peso=0;\n",
        "        edad=0;\n",
        "    }\n",
        "}"
      ],
      "execution_count": null,
      "outputs": []
    },
    {
      "cell_type": "markdown",
      "metadata": {
        "id": "koQ9LCQNrk1Z"
      },
      "source": [
        "Pregunta 23\n",
        "\n",
        "¿Qué pasaria si no escribimos el constructor?\n",
        "\n",
        "Rpta: Si no escribimos el constructor en una clase, no inicializariamos los objetos y no tendrian ningun dato asignado."
      ]
    },
    {
      "cell_type": "code",
      "metadata": {
        "id": "zsfU9quW4G99",
        "colab": {
          "base_uri": "https://localhost:8080/"
        },
        "outputId": "e7ff9908-6f29-490f-e5f0-f5c69ed1245b"
      },
      "source": [
        "%%writefile pregunta23.cpp\n",
        "#include <iostream>\n",
        "#include <string>\n",
        "using namespace std;\n",
        "\n",
        "class Persona {\n",
        "    public:\n",
        "      string name;\n",
        "      int edad;\n",
        "};\n",
        "\n",
        "int main()\n",
        "{\n",
        "    Persona persona;\n",
        "    cout << persona.name;\n",
        "    return 0;\n",
        "}"
      ],
      "execution_count": null,
      "outputs": [
        {
          "output_type": "stream",
          "name": "stdout",
          "text": [
            "Overwriting pregunta23.cpp\n"
          ]
        }
      ]
    },
    {
      "cell_type": "code",
      "metadata": {
        "id": "S2aPomyV9UWM"
      },
      "source": [
        "!g++ pregunta23.cpp && ./a.out"
      ],
      "execution_count": null,
      "outputs": []
    },
    {
      "cell_type": "markdown",
      "metadata": {
        "id": "mPIqjpFH28kv"
      },
      "source": [
        "Pregunta 24\n",
        "\n",
        "¿Puedo sobrecargar el destructor? ¿Por qué?\n",
        "\n",
        "Rpta: No se puede sobrecargar un destructor porque no tiene parametros y tampoco un valor de retorno."
      ]
    },
    {
      "cell_type": "code",
      "metadata": {
        "id": "1-_RMEtz4Hfn",
        "colab": {
          "base_uri": "https://localhost:8080/"
        },
        "outputId": "c7c17809-075d-4121-e423-7b21cd5570ff"
      },
      "source": [
        "%%writefile pregunta24.cpp\n",
        "#include <iostream>\n",
        "#include <string>\n",
        "using namespace std;\n",
        "\n",
        "class Carro {\n",
        "    public:\n",
        "      string name;\n",
        "      string modelo;\n",
        "      long anio;\n",
        "      Carro()\n",
        "      {\n",
        "          this->name=\"Toyota\";\n",
        "          this->modelo=\"yaris\";\n",
        "          this->anio= 2021;\n",
        "      }\n",
        "      ~Carro(){}\n",
        "};\n",
        "\n",
        "int main()\n",
        "{\n",
        "    Carro car;\n",
        "    cout << car.name << \"\\t\" << car.modelo << \"\\t\" << car.anio;\n",
        "    return 0;\n",
        "}"
      ],
      "execution_count": null,
      "outputs": [
        {
          "output_type": "stream",
          "name": "stdout",
          "text": [
            "Overwriting pregunta24.cpp\n"
          ]
        }
      ]
    },
    {
      "cell_type": "code",
      "metadata": {
        "colab": {
          "base_uri": "https://localhost:8080/"
        },
        "id": "_EbzhfvmCSXK",
        "outputId": "e5b136d8-4834-468e-b24c-894e8448e4e0"
      },
      "source": [
        "!g++ pregunta24.cpp && ./a.out"
      ],
      "execution_count": null,
      "outputs": [
        {
          "output_type": "stream",
          "name": "stdout",
          "text": [
            "Toyota\tyaris\t2021"
          ]
        }
      ]
    },
    {
      "cell_type": "markdown",
      "metadata": {
        "id": "4dvKiIvr3JRm"
      },
      "source": [
        "Pregunta 25\n",
        "\n",
        "¿Diferencia entre Tupla y Vector?\n",
        "\n",
        "Rpta: Tupla es una secuencia ordenada de elementos de una longitud determinada, en cambio vector es una secuencia ordenada de elementos que permite duplicados."
      ]
    },
    {
      "cell_type": "markdown",
      "metadata": {
        "id": "0tGDT7ea3SQZ"
      },
      "source": [
        "Pregunta 26\n",
        "\n",
        "¿Cuál es el orden de llamada a los constructores cuando se crea un objeto de una clase derivada?\n",
        "\n",
        "Rpta: En un objeto de una clase derivada, primero llama al costructor de clase base. Se llama en orden de derivación."
      ]
    },
    {
      "cell_type": "code",
      "metadata": {
        "id": "hHcFf2MA4Ilb",
        "colab": {
          "base_uri": "https://localhost:8080/"
        },
        "outputId": "6e379f3a-5c1b-4d61-bd2a-0618fc725c09"
      },
      "source": [
        "%%writefile pregunta26.cpp\n",
        "#include <iostream>\n",
        "#include <string>\n",
        "using namespace std;\n",
        "\n",
        "class Paquete{\n",
        "  int ancho;\n",
        "  int alto;\n",
        "  int peso;\n",
        "\n",
        "  public:\n",
        "    Paquete(int _ancho, int _alto, int _peso){\n",
        "        this->ancho = _ancho;\n",
        "        this->alto = _alto;\n",
        "        this->peso = _peso;\n",
        "    }\n",
        "    int get_ancho(){ return ancho; }\n",
        "    int get_alto(){ return alto; }\n",
        "    int get_peso(){ return peso; }\n",
        "};\n",
        "\n",
        "class Contenido : public Paquete{\n",
        "    string emisor;\n",
        "\n",
        "    public:\n",
        "    Contenido(int _ancho, int _alto, int _peso, string _emisor) : Paquete(_ancho, _alto, _peso){\n",
        "        this->emisor = _emisor;\n",
        "    }\n",
        "    string get_emisor(){ return emisor; }\n",
        "};\n",
        "\n",
        "int main(){\n",
        "  Contenido paq1(20, 40, 10, \"Jefe\");\n",
        "  cout << \"El ancho de la caja es: \" << paq1.get_ancho() << \"cm\" << endl;\n",
        "  cout << \"El alto de la caja es: \" << paq1.get_alto() << \"cm\" << endl;\n",
        "  cout << \"El peso de la caja es: \" << paq1.get_peso() << \"Kg\" << endl;\n",
        "  cout << \"El emisor de la caja es: \" << paq1.get_emisor() << endl;\n",
        "  return 0;\n",
        "}"
      ],
      "execution_count": null,
      "outputs": [
        {
          "output_type": "stream",
          "name": "stdout",
          "text": [
            "Overwriting pregunta26.cpp\n"
          ]
        }
      ]
    },
    {
      "cell_type": "code",
      "metadata": {
        "id": "PEqruqjPvsIe",
        "colab": {
          "base_uri": "https://localhost:8080/"
        },
        "outputId": "d0ee754e-36ef-4209-aac4-2bfadaef4636"
      },
      "source": [
        "!g++ pregunta26.cpp && ./a.out"
      ],
      "execution_count": null,
      "outputs": [
        {
          "output_type": "stream",
          "name": "stdout",
          "text": [
            "El ancho de la caja es: 20cm\n",
            "El alto de la caja es: 40cm\n",
            "El peso de la caja es: 10Kg\n",
            "El emisor de la caja es: Jefe\n"
          ]
        }
      ]
    },
    {
      "cell_type": "markdown",
      "metadata": {
        "id": "_j23pXB-3dOu"
      },
      "source": [
        "Pregunta 27\n",
        "\n",
        "¿Diferencia la implementacion de una relacion composición y Agregación?\n",
        "\n",
        "Rpta: En la composición, su contenido no puede ser compartido por varios objetos. En la agregacion, su contenido puede ser compartido con otros objetos, ya sean de su misma agregación o de una agregación distinta.  "
      ]
    },
    {
      "cell_type": "markdown",
      "metadata": {
        "id": "4m5VwLHF3qLO"
      },
      "source": [
        "Pregunta 28\n",
        "\n",
        "¿Cómo hacer el manejo de excepciones en C++?\n",
        "\n",
        "Rpta: Una **excepción**  es una circunstancia imprevista.\n",
        "\n",
        "El manejo de excepciones se basa en un mecanismo cuyo funcionamiento tiene 3 etapas basicas \n",
        "\n",
        "1. Se intenta ejecutar un bloque de código y se decide qué hacer si se produce una circunstancia excepcional durante su ejecución.\n",
        "\n",
        "2. Se produce la circunstancia: se \"lanza\" una excepción (en caso contrario el programa sigue su curso normal).\n",
        "\n",
        "3. La ejecución del programa es desviada a un sitio específico donde la excepción es \"capturada\" y se decide que hacer al respecto.\n",
        "\n",
        "Para las 3 etapas anteriores existen tres palabras especificas: Try, Throw y Catch."
      ]
    },
    {
      "cell_type": "markdown",
      "metadata": {
        "id": "uJIj3g4i3xzg"
      },
      "source": [
        "Pregunta 29\n",
        "\n",
        "¿Puede ejemplificar una relación de dependencia?\n",
        "\n",
        "Rpta: La dependencia es un concepto de POO que nos indica la relación que hay en 2 clases, como su nombre lo indica, una clase depende de otra para funcionar.\n"
      ]
    },
    {
      "cell_type": "code",
      "metadata": {
        "id": "w4GX0GtC4Kdf",
        "colab": {
          "base_uri": "https://localhost:8080/"
        },
        "outputId": "eb62369c-950b-494c-faf5-71c02b498fd7"
      },
      "source": [
        "%%writefile pregunta29.cpp\n",
        "#include <iostream>\n",
        "using namespace std;\n",
        "\n",
        "class Comer{\n",
        "    public:\n",
        "    void ordenar(){\n",
        "        cout << \"Comida ordenada con exito\";\n",
        "    }\n",
        "};\n",
        "\n",
        "class Persona : public Comer{\n",
        "    \n",
        "    public:\n",
        "    void comer(){\n",
        "        Comer nuevacomida;\n",
        "        nuevacomida.ordenar();\n",
        "    }\n",
        "};\n",
        "\n",
        "int main(){\n",
        "    Persona p1;\n",
        "    p1.comer();\n",
        "    return 0;\n",
        "}"
      ],
      "execution_count": null,
      "outputs": [
        {
          "output_type": "stream",
          "name": "stdout",
          "text": [
            "Overwriting pregunta29.cpp\n"
          ]
        }
      ]
    },
    {
      "cell_type": "code",
      "metadata": {
        "id": "8bMBR1_-vxc1",
        "colab": {
          "base_uri": "https://localhost:8080/"
        },
        "outputId": "dc7151c2-c045-47d1-d558-2b400f28ee76"
      },
      "source": [
        "!g++ pregunta29.cpp && ./a.out"
      ],
      "execution_count": null,
      "outputs": [
        {
          "output_type": "stream",
          "name": "stdout",
          "text": [
            "Comida ordenada con exito"
          ]
        }
      ]
    },
    {
      "cell_type": "markdown",
      "metadata": {
        "id": "P8kPqUOj37Y8"
      },
      "source": [
        "Pregunta 30\n",
        "\n",
        "¿Una clase puede heredar de 2 clases base?\n",
        "\n",
        "Rpta: Si, se puede heredar una clase de 2 clases bases a más. Esto es conocido como Herencia Multiple. Es un concepto que encierra cierto grado de complejidad para el compilador. "
      ]
    },
    {
      "cell_type": "code",
      "metadata": {
        "id": "uWTCxOlc4LFC",
        "colab": {
          "base_uri": "https://localhost:8080/"
        },
        "outputId": "ab4ef973-0b9d-4b46-da33-5a1ac194497d"
      },
      "source": [
        "%%writefile pregunta30.cpp\n",
        "#include <iostream>\n",
        "#include <string>\n",
        "using namespace std;\n",
        "\n",
        "class Titulo{\n",
        "    string especialidad;\n",
        "    public:\n",
        "    Titulo(string _especialidad){\n",
        "        this->especialidad = _especialidad;\n",
        "    }\n",
        "    string get_especialidad(){return especialidad;}\n",
        "};\n",
        "\n",
        "class Persona{\n",
        "    string nombre;\n",
        "    public:\n",
        "    Persona(string _nombre){\n",
        "        this->nombre = _nombre;\n",
        "    }\n",
        "    string get_nombre(){return nombre;}\n",
        "};\n",
        "\n",
        "class Trabajador : public Titulo, public Persona{\n",
        "    string puesto;\n",
        "    public:\n",
        "    Trabajador(string _especialidad, string _nombre, string _puesto) : Titulo(_especialidad), Persona(_nombre) {\n",
        "        this->puesto = _puesto;\n",
        "    }\n",
        "    string get_puesto(){return puesto;}\n",
        "};\n",
        "\n",
        "int main(){\n",
        "    Trabajador T1(\"Arquitectura\", \"Juan\", \"Supervisor\");\n",
        "    cout << \"Especialidad: \" << T1.get_especialidad() << endl;\n",
        "    cout << \"Nombre: \" << T1.get_nombre() << endl;\n",
        "    cout << \"Puesto: \" << T1.get_puesto() << endl;\n",
        "\n",
        "    return 0;\n",
        "}"
      ],
      "execution_count": null,
      "outputs": [
        {
          "output_type": "stream",
          "name": "stdout",
          "text": [
            "Overwriting pregunta30.cpp\n"
          ]
        }
      ]
    },
    {
      "cell_type": "code",
      "metadata": {
        "id": "dvc1ovA2vyq5",
        "colab": {
          "base_uri": "https://localhost:8080/"
        },
        "outputId": "493d89de-82e6-4885-eee2-3d3647db90f3"
      },
      "source": [
        "!g++ pregunta30.cpp && ./a.out"
      ],
      "execution_count": null,
      "outputs": [
        {
          "output_type": "stream",
          "name": "stdout",
          "text": [
            "Especialidad: Arquitectura\n",
            "Nombre: Juan\n",
            "Puesto: Supervisor\n"
          ]
        }
      ]
    }
  ]
}