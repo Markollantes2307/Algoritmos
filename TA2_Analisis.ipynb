{
  "nbformat": 4,
  "nbformat_minor": 0,
  "metadata": {
    "colab": {
      "name": "TA2_Analisis.ipynb",
      "provenance": [],
      "collapsed_sections": [],
      "include_colab_link": true
    },
    "kernelspec": {
      "name": "python3",
      "display_name": "Python 3"
    },
    "language_info": {
      "name": "python"
    }
  },
  "cells": [
    {
      "cell_type": "markdown",
      "metadata": {
        "id": "view-in-github",
        "colab_type": "text"
      },
      "source": [
        "<a href=\"https://colab.research.google.com/github/Markollantes2307/Algoritmos/blob/main/TA2_Analisis.ipynb\" target=\"_parent\"><img src=\"https://colab.research.google.com/assets/colab-badge.svg\" alt=\"Open In Colab\"/></a>"
      ]
    },
    {
      "cell_type": "markdown",
      "metadata": {
        "id": "kLXE8JTgW7BX"
      },
      "source": [
        "## Ejercicio 01\n",
        ">Suma y Promedio de números.\n"
      ]
    },
    {
      "cell_type": "code",
      "metadata": {
        "colab": {
          "base_uri": "https://localhost:8080/"
        },
        "id": "0zNRehn5VpGG",
        "outputId": "f8c7b79b-94f0-48cc-dd93-41f9dc98222b"
      },
      "source": [
        "%%writefile ejercicio1.cpp\n",
        "int s = 0;//1\n",
        "double prom = 0;//1\n",
        "for (int i = 0; i < n; i++) {//1+n(1+...+2)+1\n",
        "s = s + A[i];//3\n",
        "prom = s / (double) n;//3\n",
        "}\n",
        "printf(\"Suma:%d\\nProm:%d\", s, prom);//2\n",
        "\n",
        "Tiempo detallado: 1+1+1+n(3+6)+1+2= 9n+6\n",
        "Tiempo asintotico: O(n)"
      ],
      "execution_count": null,
      "outputs": [
        {
          "output_type": "stream",
          "name": "stdout",
          "text": [
            "Writing ejercicio1.cpp\n"
          ]
        }
      ]
    },
    {
      "cell_type": "markdown",
      "metadata": {
        "id": "b6Fhqzl-YLOq"
      },
      "source": [
        "##Ejercicio 02\n",
        ">Suma y promedio de números 2.0"
      ]
    },
    {
      "cell_type": "code",
      "metadata": {
        "colab": {
          "base_uri": "https://localhost:8080/"
        },
        "id": "YlAxhaSYX405",
        "outputId": "1425fcba-70cc-4506-d533-adfc8ce5307b"
      },
      "source": [
        "%%writefile ejercicio2.cpp\n",
        "int s = 0;//1\n",
        "double prom = 0;//1\n",
        "for (int i = 0; i < n; i++) {//1+n(1+...+2)+1\n",
        "s = s + A[i];//3\n",
        "}\n",
        "prom = s / (double)n;//3\n",
        "printf(\"Suma:%d\\nProm:%d\", s, prom);//2\n",
        "Tiempo detallado: 1+1+1+n(3+3)+1+3+2=6n+9\n",
        "Tiempo asíntotico: O(n)"
      ],
      "execution_count": null,
      "outputs": [
        {
          "output_type": "stream",
          "name": "stdout",
          "text": [
            "Writing ejercicio2.cpp\n"
          ]
        }
      ]
    },
    {
      "cell_type": "markdown",
      "metadata": {
        "id": "UAZQlGLFZfRV"
      },
      "source": [
        "##Ejercicio 03\n",
        ">Ordenamiento de N números del 1 al 100."
      ]
    },
    {
      "cell_type": "code",
      "metadata": {
        "colab": {
          "base_uri": "https://localhost:8080/"
        },
        "id": "L1W7p7KrYeDK",
        "outputId": "1885eb85-baa3-45b7-bede-543b3c034e66"
      },
      "source": [
        "%%writefile ejercicio3.cpp\n",
        "for (int i = 0; i < n - 1; i++) {//1+[n(n-1)/2](2+...+2)+2\n",
        "  for (int k = i + 1; k < n; k++) {//3+1+...+2\n",
        "    if (vec[i] > vec[k]) {3+(8)\n",
        "    int aux = vec[i];//3\n",
        "    vec[i] = vec[k];//3\n",
        "    vec[k] = aux;//2\n",
        "    }\n",
        "  }\n",
        "}\n",
        "Tiempo detallado:3+n(n-1)/2(20)=10n^2-10n+3\n",
        "Tiempo asintotico: O(n^2)"
      ],
      "execution_count": null,
      "outputs": [
        {
          "output_type": "stream",
          "name": "stdout",
          "text": [
            "Writing ejercicio3.cpp\n"
          ]
        }
      ]
    },
    {
      "cell_type": "markdown",
      "metadata": {
        "id": "iGzPq0h-rc2A"
      },
      "source": [
        "##Ejercicio 04\n",
        ">Ordenamiento de N números del 1 al 100 (2.0)."
      ]
    },
    {
      "cell_type": "code",
      "metadata": {
        "colab": {
          "base_uri": "https://localhost:8080/"
        },
        "id": "MPM73A4CrSK2",
        "outputId": "b2da85a3-5846-4a40-91a6-14c97dcca00c"
      },
      "source": [
        "%%writefile ejercicio4.cpp\n",
        "int frec[101] = {0};//2\n",
        "for (int i = 0; i < n; i++) {//1+n(1+...+2)+1\n",
        "  frec[vec[i]]++;//2\n",
        "}\n",
        "int pos = 0;//1\n",
        "for (int i = 0; i < 101; i++) {//1+101(1+..+2)+1\n",
        "  for (int k = 0; k < frec[i]; k++) {//1+101(2+...+2)+1 \n",
        "    vec[pos] = i;//2\n",
        "    pos++;//2\n",
        "  }\n",
        "}\n",
        "Tiempo detallado:4+5n+3+101(3+2+101(8))=5n+82120\n",
        "Tiempo asintotico: O(n)"
      ],
      "execution_count": null,
      "outputs": [
        {
          "output_type": "stream",
          "name": "stdout",
          "text": [
            "Writing ejercicio4.cpp\n"
          ]
        }
      ]
    },
    {
      "cell_type": "markdown",
      "metadata": {
        "id": "zmWVV08926V0"
      },
      "source": [
        "##Ejercicio 05\n",
        ">Algoritmo raro - Infinito."
      ]
    },
    {
      "cell_type": "code",
      "metadata": {
        "colab": {
          "base_uri": "https://localhost:8080/"
        },
        "id": "ZF9PPbmh2zLh",
        "outputId": "839fddcc-e39b-40db-f925-d469ca5fe6bd"
      },
      "source": [
        "%%writefile ejercicio5.cpp\n",
        "int i=0;//1\n",
        "int sum=0;//1\n",
        "while (i < 100) {//100(1+...)+1\n",
        "  if (i % 2 == 0) {//3+()\n",
        "    for (int k = 0; k < n; k++) {//1+n(1+...+2)\n",
        "        sum += vec[i];//3\n",
        "      }\n",
        "    }\n",
        "    else {\n",
        "      for (int k=0; k<i; k++) {//1+99(1+...+2)\n",
        "        sum += vec[i];//3\n",
        "      }\n",
        "  }\n",
        "}\n",
        "Tiempo detallado:3+100(1+3+(1+6n))=600n+3\n",
        "Tiempo asintotico: O(n)"
      ],
      "execution_count": null,
      "outputs": [
        {
          "output_type": "stream",
          "name": "stdout",
          "text": [
            "Writing ejercicio5.cpp\n"
          ]
        }
      ]
    },
    {
      "cell_type": "markdown",
      "metadata": {
        "id": "2VQXKMdQ49I2"
      },
      "source": [
        "##Ejercicio 06\n",
        ">Factorial."
      ]
    },
    {
      "cell_type": "code",
      "metadata": {
        "colab": {
          "base_uri": "https://localhost:8080/"
        },
        "id": "Zb9VFe5543gy",
        "outputId": "06bf5cd2-63af-4dcd-f923-4bd5c7280e72"
      },
      "source": [
        "%%writefile ejercicio6.cpp\n",
        "int fact = 1;//1\n",
        "for (int i = 2; i < n; i++) {//2+n(1+...+2)+1\n",
        "  fact *= i;//2\n",
        "}\n",
        "printf(\"Factorial: %d\", fact);//1\n",
        "Tiempo detallado:5+5n\n",
        "Tiempo asintotico: O(n)"
      ],
      "execution_count": null,
      "outputs": [
        {
          "output_type": "stream",
          "name": "stdout",
          "text": [
            "Writing ejercicio6.cpp\n"
          ]
        }
      ]
    },
    {
      "cell_type": "markdown",
      "metadata": {
        "id": "J0VEWpNg5-Fk"
      },
      "source": [
        "##Ejercicio 07\n",
        ">Buscar cadena de máximo 50 caracteres."
      ]
    },
    {
      "cell_type": "code",
      "metadata": {
        "colab": {
          "base_uri": "https://localhost:8080/"
        },
        "id": "G20rAtLj58th",
        "outputId": "40cbda95-26e2-47e0-84a0-e6fd0fe01338"
      },
      "source": [
        "%%writefile ejercicio7.cpp\n",
        "int pos = -1;//2\n",
        "for (int i = 0; i < n; i++) {//1+n(1+...+2)\n",
        "  if (strcmp(vec[i], cadBuscar) == 0) {//5+1\n",
        "    pos = i;\n",
        "    break;\n",
        "  }\n",
        "}\n",
        "Tiempo detallado:9n+3\n",
        "Tiempo asintotico: O(n)"
      ],
      "execution_count": null,
      "outputs": [
        {
          "output_type": "stream",
          "name": "stdout",
          "text": [
            "Writing ejercicio7.cpp\n"
          ]
        }
      ]
    },
    {
      "cell_type": "markdown",
      "metadata": {
        "id": "n6cb6qnD6zFq"
      },
      "source": [
        "##Ejercicio 08\n",
        ">Buscar el mayor."
      ]
    },
    {
      "cell_type": "code",
      "metadata": {
        "colab": {
          "base_uri": "https://localhost:8080/"
        },
        "id": "dK1Rw-im6us2",
        "outputId": "52a9dc83-4134-43b5-b2bc-27d6b9d28647"
      },
      "source": [
        "%%writefile ejercicio8.cpp\n",
        "int pos = 0;//1\n",
        "for (int i = 1; i < n; i++) {//2+n(1+...+2)+1\n",
        "  if (vec[i] > vec[pos])//3+(1)\n",
        "    pos = i;//1\n",
        "  }\n",
        "printf(\"El mayor es: %d\", vec[pos]);//2\n",
        "Tiempo detallado:7n+6\n",
        "Tiempo asintotico: O(n)"
      ],
      "execution_count": null,
      "outputs": [
        {
          "output_type": "stream",
          "name": "stdout",
          "text": [
            "Writing ejercicio8.cpp\n"
          ]
        }
      ]
    },
    {
      "cell_type": "markdown",
      "metadata": {
        "id": "STf4uSDq7guj"
      },
      "source": [
        "##Ejercicio 09\n",
        ">Otro algoritmo raro – El while es válido?."
      ]
    },
    {
      "cell_type": "code",
      "metadata": {
        "colab": {
          "base_uri": "https://localhost:8080/"
        },
        "id": "dGRAdj_H7TAW",
        "outputId": "51c3b548-b9ec-412f-a959-60c98af71137"
      },
      "source": [
        "%%writefile ejercicio9.cpp\n",
        "int max = 0;//1\n",
        "for (int m = 0; m < n; m++) {//1+n(1+...+2)\n",
        "  int cont = 0;//1\n",
        "  int k = m + 1;//3\n",
        "  while (vec[m] <= vec[k]) {//4+n(5)  preguntar al profesor\n",
        "    k = k + 1;//3\n",
        "    cont++;//2\n",
        "  }\n",
        "  if (cont > max)//1+\n",
        "    max = cont;//1\n",
        "  }\n",
        "printf(\"Maximo %d\", max);//1\n",
        "\n",
        "Tiempo detallado:7n+6\n",
        "Tiempo asintotico: O(n)"
      ],
      "execution_count": null,
      "outputs": [
        {
          "output_type": "stream",
          "name": "stdout",
          "text": [
            "Writing ejercicio9.cpp\n"
          ]
        }
      ]
    },
    {
      "cell_type": "markdown",
      "metadata": {
        "id": "QdUYXbSA90Ad"
      },
      "source": [
        "##Ejercicio 10\n",
        ">Logarítmica."
      ]
    },
    {
      "cell_type": "code",
      "metadata": {
        "colab": {
          "base_uri": "https://localhost:8080/"
        },
        "id": "VzWnE4OE7RHM",
        "outputId": "a989102d-2eeb-42d8-f6c5-46d89cfb0793"
      },
      "source": [
        "%%writefile ejercicio10\n",
        "int i=1;//1\n",
        "while (i < n) {//1+n(1+...)\n",
        "  if (vec[i] % 2 == 0)//4+...\n",
        "    i *= 3;//2\n",
        "  else\n",
        "    i *= 2;//2\n",
        "}\n",
        "Tiempo detallado:7n+2\n",
        "Tiempo asintotico: O(n)"
      ],
      "execution_count": null,
      "outputs": [
        {
          "output_type": "stream",
          "name": "stdout",
          "text": [
            "Writing ejercicio10\n"
          ]
        }
      ]
    },
    {
      "cell_type": "markdown",
      "metadata": {
        "id": "-kGGfApw_eTd"
      },
      "source": [
        "##Ejercicio 11\n",
        ">Logarítmica (2.0)."
      ]
    },
    {
      "cell_type": "code",
      "metadata": {
        "colab": {
          "base_uri": "https://localhost:8080/"
        },
        "id": "PNq48JvT_SLq",
        "outputId": "3a0bc3f1-38d9-4fdc-e710-ead69fe1fdd2"
      },
      "source": [
        "%%writefile ejercicio11\n",
        "int i=1;//1\n",
        "while (i < n) {1+n(1+...)\n",
        "  if (vec[i] % 2 == 0)//4+...\n",
        "    n = n / 3;//2\n",
        "  else\n",
        "    n = n / 2;//2\n",
        "}\n",
        "Tiempo detallado:7n+2\n",
        "Tiempo asintotico: O(n)"
      ],
      "execution_count": null,
      "outputs": [
        {
          "output_type": "stream",
          "name": "stdout",
          "text": [
            "Writing ejercicio11\n"
          ]
        }
      ]
    },
    {
      "cell_type": "markdown",
      "metadata": {
        "id": "fQWDYdHiAq7E"
      },
      "source": [
        "##Ejercicio 12\n",
        ">Búsqueda binaria – Arreglo ordenado."
      ]
    },
    {
      "cell_type": "code",
      "metadata": {
        "id": "p4QwIFatAj3x"
      },
      "source": [
        "%%writefile ejercicio12\n",
        "int inf = 0;//1\n",
        "int sup = n - 1;//3\n",
        "int pos = -1;//2\n",
        "while ((pos == -1) && (sup >= inf)) {//3+(n-1)(4+...)\n",
        "  int medio = (inf + sup) / 2;//3\n",
        "  if (arreglo[medio] == 80)//2+(...)\n",
        "    pos = medio;//1\n",
        "  else if (arreglo[medio] < 80)//2+(...)\n",
        "    inf = medio + 1;//2\n",
        "  else\n",
        "    sup = medio - 1;//2\n",
        "}\n",
        "Tiempo detallado:(n-1)(13)+9=13n-4\n",
        "Tiempo asintotico: O(n)\n"
      ],
      "execution_count": null,
      "outputs": []
    },
    {
      "cell_type": "markdown",
      "metadata": {
        "id": "uGdY1YULHwe8"
      },
      "source": [
        "##Ejercicio 13-22\n",
        ">Implemente y analice las siguientes funciones.\n",
        "1. Encontrar el número mayor en un arreglo de enteros\n",
        "2. Ordenar un arreglo de números enteros\n",
        "3. Eliminar el elemento en una posicion de un arreglo\n",
        "4. Buscar un número en un arreglo\n",
        "5. Calcular el factorial de N\n",
        "6. Determinar si un número existe en un arreglo de enteros.\n",
        "7. Calcular cuántas veces se repite un número X en un arreglo de enteros.\n",
        "8. Sumar los dígitos de un número entero positivo.\n",
        "9. Determinar si un número es primo o no.\n",
        "10. Determinar la cantidad de primos que existen en un arreglo de enteros."
      ]
    },
    {
      "cell_type": "code",
      "metadata": {
        "colab": {
          "base_uri": "https://localhost:8080/"
        },
        "id": "oEIAqjKZH4vV",
        "outputId": "5c707e8b-70e0-48f1-88e2-8a5f96b25893"
      },
      "source": [
        "%%writefile ejercicios_propuestos.cpp\n",
        "#include<iostream>\n",
        "#include<cmath>\n",
        "using namespace std;\n",
        "\n",
        "int mayor(int arreglo[], int ne) {\n",
        "\tint max = arreglo[0];//3\n",
        "\tfor (int i = 1; i < ne; i++) {//1+n(1+...+2)\n",
        "\t\tif (arreglo[i] > max) {//2+(...)\n",
        "\t\t\tmax = arreglo[i];//2\n",
        "\t\t}\n",
        "\t}\n",
        "\treturn max;//1\n",
        "}\n",
        "//Tiempo detallado:7n+4\n",
        "//Tiempo asintotico: O(n)\n",
        "\n",
        "\n",
        "void orden(int arr[], int ne) {\n",
        "\tfor (int i = 0; i < ne - 1; i++) {//1+(n-1)(2+...+2)+2\n",
        "\t\tfor (int k = i + 1; k < ne; k++) {//3+n(1+...+2)\n",
        "\t\t\tif (arr[i] > arr[k]) {//3+(...)\n",
        "\t\t\t\tint aux = arr[i];//3\n",
        "\t\t\t\tarr[i] = arr[k];//3\n",
        "\t\t\t\tarr[k] = aux;//2\n",
        "\t\t\t}\n",
        "\t\t}\n",
        "\t}\n",
        "\tfor (int i = 0; i < ne; i++)//1+n(1+...+2)\n",
        "\t{\n",
        "\t\tcout << arr[i] << \" \";//3\n",
        "\t}\n",
        "\tcout << endl;//1\n",
        "}\n",
        "//Tiempo detallado:14n^2-n-2\n",
        "//Tiempo asintotico: O(n^2)\n",
        "\n",
        "void eliminar(int arr[], int ne, int dato) {\n",
        "\tfor (int i = 0; i < ne; i++) {//1+n(1+...+2)\n",
        "\t\tif (arr[i] == dato) {//2\n",
        "\t\t\twhile (i<ne-1) {//1+(n-1)(2+...)\n",
        "\t\t\t\tarr[i] = arr[i + 1];//4\n",
        "\t\t\t\ti++;//2\n",
        "\t\t\t}\t\t\n",
        "\t\t\tbreak;\n",
        "\t\t}\n",
        "\t}\n",
        "\tne = ne - 1;//2\n",
        "}\n",
        "//Tiempo detallado:8n^2 -2n+1\n",
        "//Tiempo asintotico: O(n^2)\n",
        "\n",
        "\n",
        "int buscar(int arr[], int ne, int dato) {\n",
        "\tfor (int i = 0; i < ne; i++)//1+n(1+...+2)\n",
        "\t{\n",
        "\t\tif (arr[i] == dato) {//2\n",
        "\t\t\treturn arr[i];//1\n",
        "\t\t}\n",
        "\t}\n",
        "}\n",
        "\n",
        "//Tiempo detallado:6n +1\n",
        "//Tiempo asintotico: O(n)\n",
        "\n",
        "\n",
        "int repetir(int arreglo[], int ne, int dato) {\n",
        "\tint c = 0;//1\n",
        "\tfor (int i = 0; i < ne; i++) {1+n(1+...+2)+1\n",
        "\t\tif (arreglo[i] == dato) {//2+(...)\n",
        "\t\t\tc++;//2\n",
        "\t\t}\n",
        "\t}\n",
        "\treturn c;//1\n",
        "}\n",
        "\n",
        "//Tiempo detallado:7n + 4\n",
        "//Tiempo asintotico: O(n)\n",
        "\n",
        "\n",
        "\n",
        "bool existe(int arr[], int ne, int dato) {\n",
        "  bool ex=false;//2\n",
        "  for (int i = 0; i < ne; i++)//1+n(1+...+2)+1\n",
        "\t{\n",
        "\t\tif (arr[i] == dato) {//2+(...)\n",
        "\t\t\tex=!ex;//2\n",
        "\t\t}\n",
        "\t}\n",
        "  return ex;//1\n",
        "}\n",
        "\n",
        "//Tiempo detallado:7n + 5\n",
        "//Tiempo asintotico: O(n)\n",
        "\n",
        "\n",
        "\n",
        "\n",
        "int factorial(int num){\n",
        "    int fc=1;//2\n",
        "    for(int i=1; i<=num; i++){//2+n(2+...+2)+2\n",
        "        fc=fc*i;//2\n",
        "    }\n",
        "    return fc;//1\n",
        "}\n",
        "\n",
        "//Tiempo detallado:6n + 7\n",
        "//Tiempo asintotico: O(n)\n",
        "\n",
        "\n",
        "bool esprimo(int num){\n",
        "    int pr=0; bool p=false;//2\n",
        "    for(int i=0; i<num; i++){//1+n(1+...2)+1\n",
        "        if(num%(i+1)==0){//3+(...)\n",
        "            pr++;//2\n",
        "        }\n",
        "    }\n",
        "    if(pr==2){p=true;}//2\n",
        "    return p;//1\n",
        "}\n",
        "\n",
        "//Tiempo detallado:8n + 7\n",
        "//Tiempo asintotico: O(n)\n",
        "\n",
        "\n",
        "int cuantosprimos(int arr[], int ne){\n",
        "    int c=0;//1\n",
        "    for(int i=0; i<ne; i++){//1+n(1+...+2)+1\n",
        "      if(esprimo(arr[i])){//2+(...)\n",
        "          c++;//2\n",
        "      }\n",
        "    }\n",
        "    return c;//1\n",
        "}\n",
        "\n",
        "//Tiempo detallado:7n + 4\n",
        "//Tiempo asintotico: O(n)\n",
        "\n",
        "int sumadigitos(int num){\n",
        "    int aux=num; int d=0;//3\n",
        "    for(int i=10; i>=0; i--){//2+n(2+...+2)+2\n",
        "        d=d+aux/(int)pow(10,i);//4\n",
        "        aux=aux%(int)pow(10,i);//4\n",
        "    }\n",
        "    return d;//1\n",
        "\n",
        "}\n",
        "\n",
        "//Tiempo detallado:12n + 8\n",
        "//Tiempo asintotico: O(n)"
      ],
      "execution_count": null,
      "outputs": [
        {
          "output_type": "stream",
          "name": "stdout",
          "text": [
            "Writing ejercicios_propuestos.cpp\n"
          ]
        }
      ]
    },
    {
      "cell_type": "code",
      "metadata": {
        "id": "BnXH8RRoIMhF"
      },
      "source": [
        ""
      ],
      "execution_count": null,
      "outputs": []
    }
  ]
}