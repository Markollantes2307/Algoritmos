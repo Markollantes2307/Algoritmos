{
  "nbformat": 4,
  "nbformat_minor": 0,
  "metadata": {
    "colab": {
      "name": "Cod1.ipynb",
      "provenance": [],
      "authorship_tag": "ABX9TyOJFoJxEz+kNHXOF3TyVvF4",
      "include_colab_link": true
    },
    "kernelspec": {
      "name": "python3",
      "display_name": "Python 3"
    },
    "language_info": {
      "name": "python"
    }
  },
  "cells": [
    {
      "cell_type": "markdown",
      "metadata": {
        "id": "view-in-github",
        "colab_type": "text"
      },
      "source": [
        "<a href=\"https://colab.research.google.com/github/Markollantes2307/Algoritmos/blob/main/Cod1.ipynb\" target=\"_parent\"><img src=\"https://colab.research.google.com/assets/colab-badge.svg\" alt=\"Open In Colab\"/></a>"
      ]
    },
    {
      "cell_type": "code",
      "metadata": {
        "colab": {
          "base_uri": "https://localhost:8080/"
        },
        "id": "7zjEL-NFWTs6",
        "outputId": "9014b116-03b0-47b1-ac4e-024affcd408a"
      },
      "source": [
        "%%writefile algp1s2.cpp\n",
        "#include<iostream>\n",
        "using namespace std;\n",
        "int main(){\n",
        "  cout<<\"Hola Peter\"<<endl;\n",
        "  return 0;\n",
        "}"
      ],
      "execution_count": 2,
      "outputs": [
        {
          "output_type": "stream",
          "text": [
            "Overwriting algp1s2.cpp\n"
          ],
          "name": "stdout"
        }
      ]
    },
    {
      "cell_type": "code",
      "metadata": {
        "id": "IPF_4jugXu3S"
      },
      "source": [
        "!g++ algp1s2.cpp"
      ],
      "execution_count": 3,
      "outputs": []
    },
    {
      "cell_type": "code",
      "metadata": {
        "colab": {
          "base_uri": "https://localhost:8080/"
        },
        "id": "lLh5nfC0Z6dH",
        "outputId": "63782d70-abdf-4d68-db83-e7446fcd2c3c"
      },
      "source": [
        "!./a.out"
      ],
      "execution_count": 4,
      "outputs": [
        {
          "output_type": "stream",
          "text": [
            "Hola Peter\n"
          ],
          "name": "stdout"
        }
      ]
    },
    {
      "cell_type": "code",
      "metadata": {
        "colab": {
          "base_uri": "https://localhost:8080/"
        },
        "id": "UoT0ZscOacZh",
        "outputId": "5424e07d-369f-46c5-d072-0d5b72c76a3d"
      },
      "source": [
        "!g++ algp1s2.cpp -std=c++1z -Wall && ./a.out"
      ],
      "execution_count": 6,
      "outputs": [
        {
          "output_type": "stream",
          "text": [
            "Hola Peter\n"
          ],
          "name": "stdout"
        }
      ]
    },
    {
      "cell_type": "code",
      "metadata": {
        "colab": {
          "base_uri": "https://localhost:8080/"
        },
        "id": "Mn46d3fwbjAL",
        "outputId": "b4ba0f92-ff9c-44c8-851a-84d009aa9e2d"
      },
      "source": [
        "%%writefile sintemplates.cpp\n",
        "class Operation{\n",
        "    short n1;\n",
        "    short n2;\n",
        "    public:\n",
        "    Operation(){\n",
        "        this->n1=0;\n",
        "        this->n2=0;\n",
        "    }\n",
        "    Operation(short n1)\n",
        "    {\n",
        "        this->n1=n1;\n",
        "        this->n2=0;\n",
        "    }\n",
        "    Operation(short n1, short n2){\n",
        "        this->n1=n1;\n",
        "        this->n2=n2;\n",
        "    }\n",
        "    private:\n",
        "    short n1;\n",
        "    short n2;\n",
        "};\n",
        "int main(){\n",
        "    Operation o1;\n",
        "    Operation o2(10);\n",
        "    Operation o3(10,20);\n",
        "    return 0;\n",
        "}"
      ],
      "execution_count": 8,
      "outputs": [
        {
          "output_type": "stream",
          "text": [
            "Writing sintemplates.cpp\n"
          ],
          "name": "stdout"
        }
      ]
    },
    {
      "cell_type": "code",
      "metadata": {
        "colab": {
          "base_uri": "https://localhost:8080/"
        },
        "id": "KDtMJiwxbomy",
        "outputId": "c45ab4a1-d0aa-4f28-81d6-16525ac5ddb1"
      },
      "source": [
        "%%writefile sintemplates.cpp\n",
        "#include<iostream>\n",
        "using namespace std;\n",
        "class Operation{\n",
        "    public:\n",
        "    Operation(short n1=0, short n2=0):n1(n1),n2(n2){}\n",
        "    short suma(){return n1+n2;}\n",
        "    private:\n",
        "    short n1; short n2;\n",
        "};\n",
        "class Operation2{\n",
        "    public:\n",
        "    Operation2(long n1=0, long n2=0):n1(n1),n2(n2){}\n",
        "    long suma(){return n1+n2;}\n",
        "    private:\n",
        "    long n1; long n2;\n",
        "};\n",
        "int main(){\n",
        "    Operation o1(15,20);\n",
        "    Operation2 o2(1234570,2468246);\n",
        "    cout<<o1.suma()<<endl;\n",
        "    cout<<o2.suma()<<endl;\n",
        "    return 0;\n",
        "}"
      ],
      "execution_count": 10,
      "outputs": [
        {
          "output_type": "stream",
          "text": [
            "Overwriting sintemplates.cpp\n"
          ],
          "name": "stdout"
        }
      ]
    },
    {
      "cell_type": "code",
      "metadata": {
        "colab": {
          "base_uri": "https://localhost:8080/"
        },
        "id": "Xz5CMyzCmeRv",
        "outputId": "407dea74-88d1-4f9b-be0e-1bf702af01bf"
      },
      "source": [
        "!g++ sintemplates.cpp -std=c++1z -Wall && ./a.out"
      ],
      "execution_count": 13,
      "outputs": [
        {
          "output_type": "stream",
          "text": [
            "35\n",
            "3702816\n"
          ],
          "name": "stdout"
        }
      ]
    },
    {
      "cell_type": "code",
      "metadata": {
        "colab": {
          "base_uri": "https://localhost:8080/"
        },
        "id": "lTZ2AyiQboX1",
        "outputId": "4e56df2c-adc8-4023-95db-e94bddc040bc"
      },
      "source": [
        "%%writefile templates.cpp\n",
        "#include<iostream>\n",
        "using namespace std;\n",
        "template <class T>\n",
        "class Operation{\n",
        "    public:\n",
        "    Operation(T n1=0, T n2=0):n1(n1),n2(n2){}\n",
        "    T suma(){return n1+n2;}\n",
        "    private:\n",
        "    T n1; T n2;\n",
        "};\n",
        "\n",
        "int main(){\n",
        "    Operation<short> o1(15,20);\n",
        "    Operation<long> o2(1234570,2468246);\n",
        "    cout<<o1.suma()<<endl;\n",
        "    cout<<o2.suma()<<endl;\n",
        "    return 0;\n",
        "}"
      ],
      "execution_count": 11,
      "outputs": [
        {
          "output_type": "stream",
          "text": [
            "Overwriting templates.cpp\n"
          ],
          "name": "stdout"
        }
      ]
    },
    {
      "cell_type": "code",
      "metadata": {
        "colab": {
          "base_uri": "https://localhost:8080/"
        },
        "id": "ZQgBZiA8mgFw",
        "outputId": "8e41a50b-a5d6-4b21-cac9-a0cda9d0c349"
      },
      "source": [
        "!g++ templates.cpp -std=c++1z -Wall && ./a.out"
      ],
      "execution_count": 12,
      "outputs": [
        {
          "output_type": "stream",
          "text": [
            "35\n",
            "3702816\n"
          ],
          "name": "stdout"
        }
      ]
    }
  ]
}