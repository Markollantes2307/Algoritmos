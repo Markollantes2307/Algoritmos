{
  "nbformat": 4,
  "nbformat_minor": 0,
  "metadata": {
    "colab": {
      "name": "Cod3.ipynb",
      "provenance": [],
      "authorship_tag": "ABX9TyP5S1+WZq2AX2fA5A+KEise",
      "include_colab_link": true
    },
    "kernelspec": {
      "name": "python3",
      "display_name": "Python 3"
    },
    "language_info": {
      "name": "python"
    }
  },
  "cells": [
    {
      "cell_type": "markdown",
      "metadata": {
        "id": "view-in-github",
        "colab_type": "text"
      },
      "source": [
        "<a href=\"https://colab.research.google.com/github/Markollantes2307/Algoritmos/blob/main/Cod3.ipynb\" target=\"_parent\"><img src=\"https://colab.research.google.com/assets/colab-badge.svg\" alt=\"Open In Colab\"/></a>"
      ]
    },
    {
      "cell_type": "code",
      "metadata": {
        "colab": {
          "base_uri": "https://localhost:8080/"
        },
        "id": "Ds7MPdjja8tZ",
        "outputId": "0060d2eb-4342-4b9b-d618-22104f19fba1"
      },
      "source": [
        "%%writefile recursividad.cpp\n",
        "#include<iostream>\n",
        "using namespace std;\n",
        "/*void recursiva(int n){\n",
        "    if(n>0){\n",
        "        cout<<n<<\" \";\n",
        "        recursiva(n-1);\n",
        "    }\n",
        "}*/\n",
        "void recursiva1(int n){\n",
        "    if(n>0){\n",
        "        cout<<n<<\"I-\";\n",
        "        recursiva1(n-1);\n",
        "        cout<<n<<\"V-\";\n",
        "    }\n",
        "}\n",
        "int sumatoria(int n){\n",
        "    if(n>0){\n",
        "        return n+sumatoria(n-1);\n",
        "    }    \n",
        "}\n",
        "int factorial(int n){\n",
        "    if(n>1){\n",
        "        return n*factorial(n-1);\n",
        "    }\n",
        "}\n",
        "int term(int n){\n",
        "        if(n<=2)\n",
        "            return 1;\n",
        "        else\n",
        "           return term(n-1)+term(n-2);   \n",
        "}\n",
        "void fibon(int n){\n",
        "    if(n==0) return;\n",
        "    fibon(n-1);\n",
        "    cout<<term(n)<<\" \";\n",
        "}\n",
        "int main(){\n",
        "    //recursiva(5);cout<<endl;\n",
        "    //recursiva1(5);\n",
        "    //cout<<sumatoria(5)<<\" \"<<factorial(5);\n",
        "\n",
        "    fibon(5);   \n",
        "}"
      ],
      "execution_count": 2,
      "outputs": [
        {
          "output_type": "stream",
          "name": "stdout",
          "text": [
            "Writing recursividad.cpp\n"
          ]
        }
      ]
    },
    {
      "cell_type": "code",
      "metadata": {
        "colab": {
          "base_uri": "https://localhost:8080/"
        },
        "id": "gQ2ovN4Ua_bP",
        "outputId": "472c9ff5-ee1b-44b7-ef20-e90ec7650901"
      },
      "source": [
        "!g++ recursividad.cpp && ./a.out"
      ],
      "execution_count": 3,
      "outputs": [
        {
          "output_type": "stream",
          "name": "stdout",
          "text": [
            "1 1 2 3 5 "
          ]
        }
      ]
    },
    {
      "cell_type": "code",
      "metadata": {
        "colab": {
          "base_uri": "https://localhost:8080/"
        },
        "id": "V6oghin9a_RG",
        "outputId": "95b13314-07f0-4c69-e557-1bbb4b8e32ae"
      },
      "source": [
        "%%writefile recursividad1.cpp\n",
        "#include<iostream>\n",
        "using namespace std;\n",
        "void columnas(int n){\n",
        "  if(n>0){\n",
        "    columnas(n-1);\n",
        "    cout<<\"*\";\n",
        "  }\n",
        "  else  \n",
        "  cout<<endl;\n",
        "}\n",
        "void filas(int n){\n",
        "    if(n==0)return ;\n",
        "    else{\n",
        "      filas(n-1);\n",
        "      columnas(n);}\n",
        "}\n",
        "\n",
        "void cortes(int l1, int l2, int n){\n",
        "    cout<<l1<<\"x\"<<l2<<endl;\n",
        "    if(n==0)return;    \n",
        "    if(l1>=l2){\n",
        "      cortes(l1/2,l2,n-1);\n",
        "    }else{\n",
        "      cortes(l1,l2/2,n-1);\n",
        "    }\n",
        "    \n",
        "}\n",
        "\n",
        "int main(){\n",
        "  //filas(5);\n",
        "  cortes(300,200,3);\n",
        "}"
      ],
      "execution_count": 1,
      "outputs": [
        {
          "output_type": "stream",
          "name": "stdout",
          "text": [
            "Writing recursividad1.cpp\n"
          ]
        }
      ]
    },
    {
      "cell_type": "code",
      "metadata": {
        "colab": {
          "base_uri": "https://localhost:8080/"
        },
        "id": "wsqQyo8ua_Hu",
        "outputId": "d83c89d0-5ba5-46a2-ba55-653922b68cae"
      },
      "source": [
        "!g++ recursividad1.cpp && ./a.out"
      ],
      "execution_count": null,
      "outputs": [
        {
          "output_type": "stream",
          "name": "stdout",
          "text": [
            "300x200\n",
            "150x200\n",
            "150x100\n",
            "75x100\n"
          ]
        }
      ]
    },
    {
      "cell_type": "code",
      "metadata": {
        "colab": {
          "base_uri": "https://localhost:8080/"
        },
        "id": "5ErhXvHNutjb",
        "outputId": "30aca00b-1f85-4e2b-a179-fbffebff46c8"
      },
      "source": [
        "%%writefile arreglo.cpp\n",
        "#include<iostream>\n",
        "using namespace std;\n",
        "int main(){\n",
        "    int a[10000];\n",
        "    cout<<sizeof(a)<<endl;\n",
        "    for(size_t i=0;i<100;++i){\n",
        "        cout<<*(a+i)<<\"\\t\\t\"<<&a[i]<<endl;\n",
        "    }\n",
        "    return 0;\n",
        "}"
      ],
      "execution_count": 9,
      "outputs": [
        {
          "output_type": "stream",
          "name": "stdout",
          "text": [
            "Overwriting arreglo.cpp\n"
          ]
        }
      ]
    },
    {
      "cell_type": "code",
      "metadata": {
        "colab": {
          "base_uri": "https://localhost:8080/"
        },
        "id": "RT3-gxf_3f_u",
        "outputId": "9a4159af-12cb-4efb-ecdb-8234832962fb"
      },
      "source": [
        "%%writefile lista.cpp\n",
        "#include<iostream>\n",
        "using namespace std;\n",
        "struct Vagon{\n",
        "    Vagon* sig;\n",
        "    string elem;\n",
        "    Vagon(string e,Vagon* n=nullptr):elem(e),sig(n){}\n",
        "};\n",
        "int main(){\n",
        "    Vagon* v1=new Vagon(\"v1\");\n",
        "    Vagon* v2=new Vagon(\"v2\");\n",
        "    Vagon* v3=new Vagon(\"v3\"); \n",
        "    Vagon* v4=new Vagon(\"v4\"); \n",
        "    Vagon* v5=new Vagon(\"v5\");\n",
        "    v1->sig=v2; \n",
        "    v2->sig=v3;\n",
        "    v3->sig=v4;\n",
        "    v4->sig=v5;\n",
        "    \n",
        "    Vagon* aux=v1;\n",
        "    while(aux!=nullptr){\n",
        "        cout<<aux->elem<<\" \";\n",
        "        aux=aux->sig;\n",
        "    }\n",
        "\n",
        "    //cout<<v1->sig->sig->elem;      \n",
        "}"
      ],
      "execution_count": 20,
      "outputs": [
        {
          "output_type": "stream",
          "name": "stdout",
          "text": [
            "Overwriting lista.cpp\n"
          ]
        }
      ]
    },
    {
      "cell_type": "code",
      "metadata": {
        "colab": {
          "base_uri": "https://localhost:8080/"
        },
        "id": "en521lUYvblp",
        "outputId": "293cb5be-8242-47b3-fceb-b899048a050b"
      },
      "source": [
        "!g++ lista.cpp && ./a.out"
      ],
      "execution_count": 21,
      "outputs": [
        {
          "output_type": "stream",
          "name": "stdout",
          "text": [
            "v1 v2 v3 v4 v5 "
          ]
        }
      ]
    },
    {
      "cell_type": "code",
      "metadata": {
        "colab": {
          "base_uri": "https://localhost:8080/"
        },
        "id": "SAt56_PBvbb7",
        "outputId": "4e7f7c75-abaa-476a-8ee1-031ee35fc9c6"
      },
      "source": [
        "%%writefile listaSimple.cpp\n",
        "#include<iostream>\n",
        "using namespace std;\n",
        "struct Nodo{\n",
        "    Nodo* sig;\n",
        "    string elem;\n",
        "    Nodo(string e,Nodo* n=nullptr):elem(e),sig(n){}\n",
        "};\n",
        "class ListaS{\n",
        "    Nodo* ini;\n",
        "public:\n",
        "    ListaS(){\n",
        "        ini=nullptr;\n",
        "    }\n",
        "    void agrega(string e){\n",
        "        if(ini==nullptr){\n",
        "            ini=new Nodo(e);\n",
        "        }else{\n",
        "            Nodo* aux=ini;\n",
        "            while(aux->sig!=nullptr){\n",
        "                aux=aux->sig;\n",
        "            }\n",
        "            aux->sig=new Nodo(e);\n",
        "        }\n",
        "    }\n",
        "    void mostrar(){\n",
        "        Nodo* aux=ini;\n",
        "        while(aux!=nullptr){\n",
        "            cout<<aux->elem<<\" \";\n",
        "            aux=aux->sig;\n",
        "        }\n",
        "    }\n",
        "};\n",
        "int main(){\n",
        "    ListaS ls;\n",
        "    ls.agrega(\"v1\");\n",
        "    ls.agrega(\"v2\");\n",
        "    ls.agrega(\"v3\"); \n",
        "    ls.agrega(\"v4\"); \n",
        "    ls.agrega(\"v5\");\n",
        "    ls.mostrar();      \n",
        "}"
      ],
      "execution_count": 28,
      "outputs": [
        {
          "output_type": "stream",
          "name": "stdout",
          "text": [
            "Overwriting listaSimple.cpp\n"
          ]
        }
      ]
    },
    {
      "cell_type": "code",
      "metadata": {
        "colab": {
          "base_uri": "https://localhost:8080/"
        },
        "id": "7f_lVOkd-Myq",
        "outputId": "ad338808-2796-4201-829e-856b80a4c5b2"
      },
      "source": [
        "!g++ listaSimple.cpp && ./a.out"
      ],
      "execution_count": 29,
      "outputs": [
        {
          "output_type": "stream",
          "name": "stdout",
          "text": [
            "v1 v2 v3 v4 v5 "
          ]
        }
      ]
    },
    {
      "cell_type": "code",
      "metadata": {
        "id": "gVb7xwXU-Nu5"
      },
      "source": [
        ""
      ],
      "execution_count": null,
      "outputs": []
    },
    {
      "cell_type": "code",
      "metadata": {
        "id": "MwlbBbu4-NiA"
      },
      "source": [
        ""
      ],
      "execution_count": null,
      "outputs": []
    }
  ]
}